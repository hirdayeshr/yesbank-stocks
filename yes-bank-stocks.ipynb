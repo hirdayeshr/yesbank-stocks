{
 "cells": [
  {
   "cell_type": "code",
   "execution_count": 1,
   "id": "8d562ac7",
   "metadata": {
    "_cell_guid": "b1076dfc-b9ad-4769-8c92-a6c4dae69d19",
    "_uuid": "8f2839f25d086af736a60e9eeb907d3b93b6e0e5",
    "execution": {
     "iopub.execute_input": "2023-02-04T06:38:23.692423Z",
     "iopub.status.busy": "2023-02-04T06:38:23.691607Z",
     "iopub.status.idle": "2023-02-04T06:38:23.738430Z",
     "shell.execute_reply": "2023-02-04T06:38:23.737167Z"
    },
    "papermill": {
     "duration": 0.075623,
     "end_time": "2023-02-04T06:38:23.742471",
     "exception": false,
     "start_time": "2023-02-04T06:38:23.666848",
     "status": "completed"
    },
    "tags": []
   },
   "outputs": [
    {
     "name": "stdout",
     "output_type": "stream",
     "text": [
      "/kaggle/input/stock-market-index-data-india-1990-2022/NIFTY PSU BANK_Data.csv\n",
      "/kaggle/input/stock-market-index-data-india-1990-2022/NIFTY IT - HistoricalPE_PBDIV_Data.csv\n",
      "/kaggle/input/stock-market-index-data-india-1990-2022/NIFTY INDIA MANUFACTURING - HistoricalPE_PBDIV_Data.csv\n",
      "/kaggle/input/stock-market-index-data-india-1990-2022/NIFTY HOUSING_Data.csv\n",
      "/kaggle/input/stock-market-index-data-india-1990-2022/NIFTY INFRASTRUCTURE_Data.csv\n",
      "/kaggle/input/stock-market-index-data-india-1990-2022/NIFTY PHARMA - HistoricalPE_PBDIV_Data.csv\n",
      "/kaggle/input/stock-market-index-data-india-1990-2022/NIFTY NEXT 50 - HistoricalPE_PBDIV_Data.csv\n",
      "/kaggle/input/stock-market-index-data-india-1990-2022/NIFTY MEDIA_Data.csv\n",
      "/kaggle/input/stock-market-index-data-india-1990-2022/Data description.txt\n",
      "/kaggle/input/stock-market-index-data-india-1990-2022/NIFTY HOUSING - HistoricalPE_PBDIV_Data.csv\n",
      "/kaggle/input/stock-market-index-data-india-1990-2022/NIFTY COMMODITIES - HistoricalPE_PBDIV_Data.csv\n",
      "/kaggle/input/stock-market-index-data-india-1990-2022/NIFTY NEXT 50_Data.csv\n",
      "/kaggle/input/stock-market-index-data-india-1990-2022/NIFTY ENERGY_Data.csv\n",
      "/kaggle/input/stock-market-index-data-india-1990-2022/NIFTY COMMODITIES_Data.csv\n",
      "/kaggle/input/stock-market-index-data-india-1990-2022/Gold price INR.csv\n",
      "/kaggle/input/stock-market-index-data-india-1990-2022/NIFTY BANK_Data.csv\n",
      "/kaggle/input/stock-market-index-data-india-1990-2022/NIFTY OIL  GAS - HistoricalPE_PBDIV_Data.csv\n",
      "/kaggle/input/stock-market-index-data-india-1990-2022/NIFTY 100_Data.csv\n",
      "/kaggle/input/stock-market-index-data-india-1990-2022/NIFTY METAL_Data.csv\n",
      "/kaggle/input/stock-market-index-data-india-1990-2022/NIFTY INDIA MANUFACTURING_Data.csv\n",
      "/kaggle/input/stock-market-index-data-india-1990-2022/NIFTY PSU BANK - HistoricalPE_PBDIV_Data.csv\n",
      "/kaggle/input/stock-market-index-data-india-1990-2022/NIFTY PRIVATE BANK - HistoricalPE_PBDIV_Data.csv\n",
      "/kaggle/input/stock-market-index-data-india-1990-2022/NIFTY 50 - HistoricalPE_PBDIV_Data.csv\n",
      "/kaggle/input/stock-market-index-data-india-1990-2022/NIFTY MIDCAP 100 - HistoricalPE_PBDIV_Data.csv\n",
      "/kaggle/input/stock-market-index-data-india-1990-2022/NIFTY AUTO_Data.csv\n",
      "/kaggle/input/stock-market-index-data-india-1990-2022/NIFTY 100 - HistoricalPE_PBDIV_Data .csv\n",
      "/kaggle/input/stock-market-index-data-india-1990-2022/NIFTY AUTO - HistoricalPE_PBDIV_Data.csv\n",
      "/kaggle/input/stock-market-index-data-india-1990-2022/NIFTY MIDCAP 100_Data.csv\n",
      "/kaggle/input/stock-market-index-data-india-1990-2022/NIFTY PRIVATE BANK_Data.csv\n",
      "/kaggle/input/stock-market-index-data-india-1990-2022/NIFTY INFRASTRUCTURE - HistoricalPE_PBDIV_Data.csv\n",
      "/kaggle/input/stock-market-index-data-india-1990-2022/NIFTY OIL  GAS_Data.csv\n",
      "/kaggle/input/stock-market-index-data-india-1990-2022/NIFTY MEDIA - HistoricalPE_PBDIV_Data.csv\n",
      "/kaggle/input/stock-market-index-data-india-1990-2022/NIFTY BANK - HistoricalPE_PBDIV_Data.csv\n",
      "/kaggle/input/stock-market-index-data-india-1990-2022/NIFTY FMCG_Data.csv\n",
      "/kaggle/input/stock-market-index-data-india-1990-2022/NIFTY IT_Data.csv\n",
      "/kaggle/input/stock-market-index-data-india-1990-2022/NIFTY METAL - HistoricalPE_PBDIV_Data.csv\n",
      "/kaggle/input/stock-market-index-data-india-1990-2022/VIX_History.csv\n",
      "/kaggle/input/stock-market-index-data-india-1990-2022/NIFTY FMCG - HistoricalPE_PBDIV_Data.csv\n",
      "/kaggle/input/stock-market-index-data-india-1990-2022/NIFTY PHARMA_Data.csv\n",
      "/kaggle/input/stock-market-index-data-india-1990-2022/NIFTY ENERGY - HistoricalPE_PBDIV_Data.csv\n",
      "/kaggle/input/stock-market-index-data-india-1990-2022/NIFTY 50_Data.csv\n",
      "/kaggle/input/yes-bank/data_YesBank_StockPrices.csv\n"
     ]
    }
   ],
   "source": [
    "# This Python 3 environment comes with many helpful analytics libraries installed\n",
    "# It is defined by the kaggle/python Docker image: https://github.com/kaggle/docker-python\n",
    "# For example, here's several helpful packages to load\n",
    "\n",
    "import numpy as np # linear algebra\n",
    "import pandas as pd # data processing, CSV file I/O (e.g. pd.read_csv)\n",
    "\n",
    "# Input data files are available in the read-only \"../input/\" directory\n",
    "# For example, running this (by clicking run or pressing Shift+Enter) will list all files under the input directory\n",
    "\n",
    "import os\n",
    "for dirname, _, filenames in os.walk('/kaggle/input'):\n",
    "    for filename in filenames:\n",
    "        print(os.path.join(dirname, filename))\n",
    "\n",
    "# You can write up to 20GB to the current directory (/kaggle/working/) that gets preserved as output when you create a version using \"Save & Run All\" \n",
    "# You can also write temporary files to /kaggle/temp/, but they won't be saved outside of the current session"
   ]
  },
  {
   "cell_type": "code",
   "execution_count": 2,
   "id": "06086eab",
   "metadata": {
    "execution": {
     "iopub.execute_input": "2023-02-04T06:38:23.782534Z",
     "iopub.status.busy": "2023-02-04T06:38:23.781533Z",
     "iopub.status.idle": "2023-02-04T06:38:24.824986Z",
     "shell.execute_reply": "2023-02-04T06:38:24.823520Z"
    },
    "papermill": {
     "duration": 1.066094,
     "end_time": "2023-02-04T06:38:24.827991",
     "exception": false,
     "start_time": "2023-02-04T06:38:23.761897",
     "status": "completed"
    },
    "tags": []
   },
   "outputs": [],
   "source": [
    "\n",
    "\n",
    "import pandas as pd\n",
    "import numpy as np\n",
    "import matplotlib.pyplot as plt\n",
    "import seaborn as sns\n",
    "import warnings\n",
    "warnings.filterwarnings('ignore')"
   ]
  },
  {
   "cell_type": "code",
   "execution_count": 3,
   "id": "e9076a90",
   "metadata": {
    "execution": {
     "iopub.execute_input": "2023-02-04T06:38:24.866427Z",
     "iopub.status.busy": "2023-02-04T06:38:24.865973Z",
     "iopub.status.idle": "2023-02-04T06:38:24.909837Z",
     "shell.execute_reply": "2023-02-04T06:38:24.908691Z"
    },
    "papermill": {
     "duration": 0.066214,
     "end_time": "2023-02-04T06:38:24.912208",
     "exception": false,
     "start_time": "2023-02-04T06:38:24.845994",
     "status": "completed"
    },
    "tags": []
   },
   "outputs": [
    {
     "data": {
      "text/html": [
       "<div>\n",
       "<style scoped>\n",
       "    .dataframe tbody tr th:only-of-type {\n",
       "        vertical-align: middle;\n",
       "    }\n",
       "\n",
       "    .dataframe tbody tr th {\n",
       "        vertical-align: top;\n",
       "    }\n",
       "\n",
       "    .dataframe thead th {\n",
       "        text-align: right;\n",
       "    }\n",
       "</style>\n",
       "<table border=\"1\" class=\"dataframe\">\n",
       "  <thead>\n",
       "    <tr style=\"text-align: right;\">\n",
       "      <th></th>\n",
       "      <th>Date</th>\n",
       "      <th>Open</th>\n",
       "      <th>High</th>\n",
       "      <th>Low</th>\n",
       "      <th>Close</th>\n",
       "    </tr>\n",
       "  </thead>\n",
       "  <tbody>\n",
       "    <tr>\n",
       "      <th>0</th>\n",
       "      <td>Jul-05</td>\n",
       "      <td>13.00</td>\n",
       "      <td>14.00</td>\n",
       "      <td>11.25</td>\n",
       "      <td>12.46</td>\n",
       "    </tr>\n",
       "    <tr>\n",
       "      <th>1</th>\n",
       "      <td>Aug-05</td>\n",
       "      <td>12.58</td>\n",
       "      <td>14.88</td>\n",
       "      <td>12.55</td>\n",
       "      <td>13.42</td>\n",
       "    </tr>\n",
       "    <tr>\n",
       "      <th>2</th>\n",
       "      <td>Sep-05</td>\n",
       "      <td>13.48</td>\n",
       "      <td>14.87</td>\n",
       "      <td>12.27</td>\n",
       "      <td>13.30</td>\n",
       "    </tr>\n",
       "    <tr>\n",
       "      <th>3</th>\n",
       "      <td>Oct-05</td>\n",
       "      <td>13.20</td>\n",
       "      <td>14.47</td>\n",
       "      <td>12.40</td>\n",
       "      <td>12.99</td>\n",
       "    </tr>\n",
       "    <tr>\n",
       "      <th>4</th>\n",
       "      <td>Nov-05</td>\n",
       "      <td>13.35</td>\n",
       "      <td>13.88</td>\n",
       "      <td>12.88</td>\n",
       "      <td>13.41</td>\n",
       "    </tr>\n",
       "    <tr>\n",
       "      <th>...</th>\n",
       "      <td>...</td>\n",
       "      <td>...</td>\n",
       "      <td>...</td>\n",
       "      <td>...</td>\n",
       "      <td>...</td>\n",
       "    </tr>\n",
       "    <tr>\n",
       "      <th>180</th>\n",
       "      <td>Jul-20</td>\n",
       "      <td>25.60</td>\n",
       "      <td>28.30</td>\n",
       "      <td>11.10</td>\n",
       "      <td>11.95</td>\n",
       "    </tr>\n",
       "    <tr>\n",
       "      <th>181</th>\n",
       "      <td>Aug-20</td>\n",
       "      <td>12.00</td>\n",
       "      <td>17.16</td>\n",
       "      <td>11.85</td>\n",
       "      <td>14.37</td>\n",
       "    </tr>\n",
       "    <tr>\n",
       "      <th>182</th>\n",
       "      <td>Sep-20</td>\n",
       "      <td>14.30</td>\n",
       "      <td>15.34</td>\n",
       "      <td>12.75</td>\n",
       "      <td>13.15</td>\n",
       "    </tr>\n",
       "    <tr>\n",
       "      <th>183</th>\n",
       "      <td>Oct-20</td>\n",
       "      <td>13.30</td>\n",
       "      <td>14.01</td>\n",
       "      <td>12.11</td>\n",
       "      <td>12.42</td>\n",
       "    </tr>\n",
       "    <tr>\n",
       "      <th>184</th>\n",
       "      <td>Nov-20</td>\n",
       "      <td>12.41</td>\n",
       "      <td>14.90</td>\n",
       "      <td>12.21</td>\n",
       "      <td>14.67</td>\n",
       "    </tr>\n",
       "  </tbody>\n",
       "</table>\n",
       "<p>185 rows × 5 columns</p>\n",
       "</div>"
      ],
      "text/plain": [
       "       Date   Open   High    Low  Close\n",
       "0    Jul-05  13.00  14.00  11.25  12.46\n",
       "1    Aug-05  12.58  14.88  12.55  13.42\n",
       "2    Sep-05  13.48  14.87  12.27  13.30\n",
       "3    Oct-05  13.20  14.47  12.40  12.99\n",
       "4    Nov-05  13.35  13.88  12.88  13.41\n",
       "..      ...    ...    ...    ...    ...\n",
       "180  Jul-20  25.60  28.30  11.10  11.95\n",
       "181  Aug-20  12.00  17.16  11.85  14.37\n",
       "182  Sep-20  14.30  15.34  12.75  13.15\n",
       "183  Oct-20  13.30  14.01  12.11  12.42\n",
       "184  Nov-20  12.41  14.90  12.21  14.67\n",
       "\n",
       "[185 rows x 5 columns]"
      ]
     },
     "execution_count": 3,
     "metadata": {},
     "output_type": "execute_result"
    }
   ],
   "source": [
    "data_yes= pd.read_csv(\"/kaggle/input/yes-bank/data_YesBank_StockPrices.csv\")\n",
    "data_yes"
   ]
  },
  {
   "cell_type": "code",
   "execution_count": 4,
   "id": "0883f9f2",
   "metadata": {
    "execution": {
     "iopub.execute_input": "2023-02-04T06:38:24.951515Z",
     "iopub.status.busy": "2023-02-04T06:38:24.951063Z",
     "iopub.status.idle": "2023-02-04T06:38:24.974295Z",
     "shell.execute_reply": "2023-02-04T06:38:24.973090Z"
    },
    "papermill": {
     "duration": 0.047068,
     "end_time": "2023-02-04T06:38:24.978035",
     "exception": false,
     "start_time": "2023-02-04T06:38:24.930967",
     "status": "completed"
    },
    "tags": []
   },
   "outputs": [
    {
     "name": "stdout",
     "output_type": "stream",
     "text": [
      "<class 'pandas.core.frame.DataFrame'>\n",
      "RangeIndex: 185 entries, 0 to 184\n",
      "Data columns (total 5 columns):\n",
      " #   Column  Non-Null Count  Dtype  \n",
      "---  ------  --------------  -----  \n",
      " 0   Date    185 non-null    object \n",
      " 1   Open    185 non-null    float64\n",
      " 2   High    185 non-null    float64\n",
      " 3   Low     185 non-null    float64\n",
      " 4   Close   185 non-null    float64\n",
      "dtypes: float64(4), object(1)\n",
      "memory usage: 7.4+ KB\n"
     ]
    }
   ],
   "source": [
    "data_yes.info()"
   ]
  },
  {
   "cell_type": "code",
   "execution_count": 5,
   "id": "6ecdeaf9",
   "metadata": {
    "execution": {
     "iopub.execute_input": "2023-02-04T06:38:25.017479Z",
     "iopub.status.busy": "2023-02-04T06:38:25.016659Z",
     "iopub.status.idle": "2023-02-04T06:38:25.042681Z",
     "shell.execute_reply": "2023-02-04T06:38:25.041391Z"
    },
    "papermill": {
     "duration": 0.048677,
     "end_time": "2023-02-04T06:38:25.045421",
     "exception": false,
     "start_time": "2023-02-04T06:38:24.996744",
     "status": "completed"
    },
    "tags": []
   },
   "outputs": [
    {
     "data": {
      "text/html": [
       "<div>\n",
       "<style scoped>\n",
       "    .dataframe tbody tr th:only-of-type {\n",
       "        vertical-align: middle;\n",
       "    }\n",
       "\n",
       "    .dataframe tbody tr th {\n",
       "        vertical-align: top;\n",
       "    }\n",
       "\n",
       "    .dataframe thead th {\n",
       "        text-align: right;\n",
       "    }\n",
       "</style>\n",
       "<table border=\"1\" class=\"dataframe\">\n",
       "  <thead>\n",
       "    <tr style=\"text-align: right;\">\n",
       "      <th></th>\n",
       "      <th>Open</th>\n",
       "      <th>High</th>\n",
       "      <th>Low</th>\n",
       "      <th>Close</th>\n",
       "    </tr>\n",
       "  </thead>\n",
       "  <tbody>\n",
       "    <tr>\n",
       "      <th>count</th>\n",
       "      <td>185.000000</td>\n",
       "      <td>185.000000</td>\n",
       "      <td>185.000000</td>\n",
       "      <td>185.000000</td>\n",
       "    </tr>\n",
       "    <tr>\n",
       "      <th>mean</th>\n",
       "      <td>105.541405</td>\n",
       "      <td>116.104324</td>\n",
       "      <td>94.947838</td>\n",
       "      <td>105.204703</td>\n",
       "    </tr>\n",
       "    <tr>\n",
       "      <th>std</th>\n",
       "      <td>98.879850</td>\n",
       "      <td>106.333497</td>\n",
       "      <td>91.219415</td>\n",
       "      <td>98.583153</td>\n",
       "    </tr>\n",
       "    <tr>\n",
       "      <th>min</th>\n",
       "      <td>10.000000</td>\n",
       "      <td>11.240000</td>\n",
       "      <td>5.550000</td>\n",
       "      <td>9.980000</td>\n",
       "    </tr>\n",
       "    <tr>\n",
       "      <th>25%</th>\n",
       "      <td>33.800000</td>\n",
       "      <td>36.140000</td>\n",
       "      <td>28.510000</td>\n",
       "      <td>33.450000</td>\n",
       "    </tr>\n",
       "    <tr>\n",
       "      <th>50%</th>\n",
       "      <td>62.980000</td>\n",
       "      <td>72.550000</td>\n",
       "      <td>58.000000</td>\n",
       "      <td>62.540000</td>\n",
       "    </tr>\n",
       "    <tr>\n",
       "      <th>75%</th>\n",
       "      <td>153.000000</td>\n",
       "      <td>169.190000</td>\n",
       "      <td>138.350000</td>\n",
       "      <td>153.300000</td>\n",
       "    </tr>\n",
       "    <tr>\n",
       "      <th>max</th>\n",
       "      <td>369.950000</td>\n",
       "      <td>404.000000</td>\n",
       "      <td>345.500000</td>\n",
       "      <td>367.900000</td>\n",
       "    </tr>\n",
       "  </tbody>\n",
       "</table>\n",
       "</div>"
      ],
      "text/plain": [
       "             Open        High         Low       Close\n",
       "count  185.000000  185.000000  185.000000  185.000000\n",
       "mean   105.541405  116.104324   94.947838  105.204703\n",
       "std     98.879850  106.333497   91.219415   98.583153\n",
       "min     10.000000   11.240000    5.550000    9.980000\n",
       "25%     33.800000   36.140000   28.510000   33.450000\n",
       "50%     62.980000   72.550000   58.000000   62.540000\n",
       "75%    153.000000  169.190000  138.350000  153.300000\n",
       "max    369.950000  404.000000  345.500000  367.900000"
      ]
     },
     "execution_count": 5,
     "metadata": {},
     "output_type": "execute_result"
    }
   ],
   "source": [
    "data_yes.describe()"
   ]
  },
  {
   "cell_type": "code",
   "execution_count": 6,
   "id": "4891049b",
   "metadata": {
    "execution": {
     "iopub.execute_input": "2023-02-04T06:38:25.086195Z",
     "iopub.status.busy": "2023-02-04T06:38:25.085271Z",
     "iopub.status.idle": "2023-02-04T06:38:25.095138Z",
     "shell.execute_reply": "2023-02-04T06:38:25.094027Z"
    },
    "papermill": {
     "duration": 0.033521,
     "end_time": "2023-02-04T06:38:25.097605",
     "exception": false,
     "start_time": "2023-02-04T06:38:25.064084",
     "status": "completed"
    },
    "tags": []
   },
   "outputs": [
    {
     "data": {
      "text/plain": [
       "Date     0\n",
       "Open     0\n",
       "High     0\n",
       "Low      0\n",
       "Close    0\n",
       "dtype: int64"
      ]
     },
     "execution_count": 6,
     "metadata": {},
     "output_type": "execute_result"
    }
   ],
   "source": [
    "data_yes.isnull().sum()\n"
   ]
  },
  {
   "cell_type": "code",
   "execution_count": 7,
   "id": "b47fc2bc",
   "metadata": {
    "execution": {
     "iopub.execute_input": "2023-02-04T06:38:25.137111Z",
     "iopub.status.busy": "2023-02-04T06:38:25.136223Z",
     "iopub.status.idle": "2023-02-04T06:38:25.150588Z",
     "shell.execute_reply": "2023-02-04T06:38:25.149243Z"
    },
    "papermill": {
     "duration": 0.037081,
     "end_time": "2023-02-04T06:38:25.153154",
     "exception": false,
     "start_time": "2023-02-04T06:38:25.116073",
     "status": "completed"
    },
    "tags": []
   },
   "outputs": [
    {
     "data": {
      "text/html": [
       "<div>\n",
       "<style scoped>\n",
       "    .dataframe tbody tr th:only-of-type {\n",
       "        vertical-align: middle;\n",
       "    }\n",
       "\n",
       "    .dataframe tbody tr th {\n",
       "        vertical-align: top;\n",
       "    }\n",
       "\n",
       "    .dataframe thead th {\n",
       "        text-align: right;\n",
       "    }\n",
       "</style>\n",
       "<table border=\"1\" class=\"dataframe\">\n",
       "  <thead>\n",
       "    <tr style=\"text-align: right;\">\n",
       "      <th></th>\n",
       "      <th>Date</th>\n",
       "      <th>Open</th>\n",
       "      <th>High</th>\n",
       "      <th>Low</th>\n",
       "      <th>Close</th>\n",
       "    </tr>\n",
       "  </thead>\n",
       "  <tbody>\n",
       "    <tr>\n",
       "      <th>0</th>\n",
       "      <td>Jul-05</td>\n",
       "      <td>13.00</td>\n",
       "      <td>14.00</td>\n",
       "      <td>11.25</td>\n",
       "      <td>12.46</td>\n",
       "    </tr>\n",
       "    <tr>\n",
       "      <th>1</th>\n",
       "      <td>Aug-05</td>\n",
       "      <td>12.58</td>\n",
       "      <td>14.88</td>\n",
       "      <td>12.55</td>\n",
       "      <td>13.42</td>\n",
       "    </tr>\n",
       "    <tr>\n",
       "      <th>2</th>\n",
       "      <td>Sep-05</td>\n",
       "      <td>13.48</td>\n",
       "      <td>14.87</td>\n",
       "      <td>12.27</td>\n",
       "      <td>13.30</td>\n",
       "    </tr>\n",
       "    <tr>\n",
       "      <th>3</th>\n",
       "      <td>Oct-05</td>\n",
       "      <td>13.20</td>\n",
       "      <td>14.47</td>\n",
       "      <td>12.40</td>\n",
       "      <td>12.99</td>\n",
       "    </tr>\n",
       "    <tr>\n",
       "      <th>4</th>\n",
       "      <td>Nov-05</td>\n",
       "      <td>13.35</td>\n",
       "      <td>13.88</td>\n",
       "      <td>12.88</td>\n",
       "      <td>13.41</td>\n",
       "    </tr>\n",
       "  </tbody>\n",
       "</table>\n",
       "</div>"
      ],
      "text/plain": [
       "     Date   Open   High    Low  Close\n",
       "0  Jul-05  13.00  14.00  11.25  12.46\n",
       "1  Aug-05  12.58  14.88  12.55  13.42\n",
       "2  Sep-05  13.48  14.87  12.27  13.30\n",
       "3  Oct-05  13.20  14.47  12.40  12.99\n",
       "4  Nov-05  13.35  13.88  12.88  13.41"
      ]
     },
     "execution_count": 7,
     "metadata": {},
     "output_type": "execute_result"
    }
   ],
   "source": [
    "data_yes.head()"
   ]
  },
  {
   "cell_type": "code",
   "execution_count": 8,
   "id": "daa4ff21",
   "metadata": {
    "execution": {
     "iopub.execute_input": "2023-02-04T06:38:25.193909Z",
     "iopub.status.busy": "2023-02-04T06:38:25.193050Z",
     "iopub.status.idle": "2023-02-04T06:38:25.376571Z",
     "shell.execute_reply": "2023-02-04T06:38:25.375387Z"
    },
    "papermill": {
     "duration": 0.206487,
     "end_time": "2023-02-04T06:38:25.379152",
     "exception": false,
     "start_time": "2023-02-04T06:38:25.172665",
     "status": "completed"
    },
    "tags": []
   },
   "outputs": [
    {
     "data": {
      "image/png": "[encoded data removed]",
      "text/plain": [
       "<Figure size 432x288 with 1 Axes>"
      ]
     },
     "metadata": {
      "needs_background": "light"
     },
     "output_type": "display_data"
    }
   ],
   "source": [
    "plt.plot(data_yes[\"Close\"])\n",
    "plt.show()"
   ]
  },
  {
   "cell_type": "code",
   "execution_count": 9,
   "id": "dbe91184",
   "metadata": {
    "execution": {
     "iopub.execute_input": "2023-02-04T06:38:25.421073Z",
     "iopub.status.busy": "2023-02-04T06:38:25.420244Z",
     "iopub.status.idle": "2023-02-04T06:38:25.446058Z",
     "shell.execute_reply": "2023-02-04T06:38:25.444536Z"
    },
    "papermill": {
     "duration": 0.050881,
     "end_time": "2023-02-04T06:38:25.449186",
     "exception": false,
     "start_time": "2023-02-04T06:38:25.398305",
     "status": "completed"
    },
    "tags": []
   },
   "outputs": [],
   "source": [
    "bank_data=pd.read_csv(\"/kaggle/input/stock-market-index-data-india-1990-2022/NIFTY BANK_Data.csv\")"
   ]
  },
  {
   "cell_type": "code",
   "execution_count": 10,
   "id": "09e2dbc0",
   "metadata": {
    "execution": {
     "iopub.execute_input": "2023-02-04T06:38:25.490782Z",
     "iopub.status.busy": "2023-02-04T06:38:25.489902Z",
     "iopub.status.idle": "2023-02-04T06:38:25.508296Z",
     "shell.execute_reply": "2023-02-04T06:38:25.506989Z"
    },
    "papermill": {
     "duration": 0.042133,
     "end_time": "2023-02-04T06:38:25.510981",
     "exception": false,
     "start_time": "2023-02-04T06:38:25.468848",
     "status": "completed"
    },
    "tags": []
   },
   "outputs": [
    {
     "data": {
      "text/html": [
       "<div>\n",
       "<style scoped>\n",
       "    .dataframe tbody tr th:only-of-type {\n",
       "        vertical-align: middle;\n",
       "    }\n",
       "\n",
       "    .dataframe tbody tr th {\n",
       "        vertical-align: top;\n",
       "    }\n",
       "\n",
       "    .dataframe thead th {\n",
       "        text-align: right;\n",
       "    }\n",
       "</style>\n",
       "<table border=\"1\" class=\"dataframe\">\n",
       "  <thead>\n",
       "    <tr style=\"text-align: right;\">\n",
       "      <th></th>\n",
       "      <th>Date</th>\n",
       "      <th>Open</th>\n",
       "      <th>High</th>\n",
       "      <th>Low</th>\n",
       "      <th>Close</th>\n",
       "    </tr>\n",
       "  </thead>\n",
       "  <tbody>\n",
       "    <tr>\n",
       "      <th>0</th>\n",
       "      <td>09 Sep 2022</td>\n",
       "      <td>40520.75</td>\n",
       "      <td>40685.95</td>\n",
       "      <td>40280.30</td>\n",
       "      <td>40415.70</td>\n",
       "    </tr>\n",
       "    <tr>\n",
       "      <th>1</th>\n",
       "      <td>08 Sep 2022</td>\n",
       "      <td>39763.90</td>\n",
       "      <td>40265.75</td>\n",
       "      <td>39706.40</td>\n",
       "      <td>40208.95</td>\n",
       "    </tr>\n",
       "    <tr>\n",
       "      <th>2</th>\n",
       "      <td>07 Sep 2022</td>\n",
       "      <td>39337.75</td>\n",
       "      <td>39572.05</td>\n",
       "      <td>39258.25</td>\n",
       "      <td>39455.90</td>\n",
       "    </tr>\n",
       "    <tr>\n",
       "      <th>3</th>\n",
       "      <td>06 Sep 2022</td>\n",
       "      <td>39892.95</td>\n",
       "      <td>40073.75</td>\n",
       "      <td>39564.30</td>\n",
       "      <td>39666.50</td>\n",
       "    </tr>\n",
       "    <tr>\n",
       "      <th>4</th>\n",
       "      <td>05 Sep 2022</td>\n",
       "      <td>39412.05</td>\n",
       "      <td>39865.20</td>\n",
       "      <td>39407.40</td>\n",
       "      <td>39805.75</td>\n",
       "    </tr>\n",
       "    <tr>\n",
       "      <th>...</th>\n",
       "      <td>...</td>\n",
       "      <td>...</td>\n",
       "      <td>...</td>\n",
       "      <td>...</td>\n",
       "      <td>...</td>\n",
       "    </tr>\n",
       "    <tr>\n",
       "      <th>5640</th>\n",
       "      <td>07 Jan 2000</td>\n",
       "      <td>NaN</td>\n",
       "      <td>NaN</td>\n",
       "      <td>NaN</td>\n",
       "      <td>1126.90</td>\n",
       "    </tr>\n",
       "    <tr>\n",
       "      <th>5641</th>\n",
       "      <td>06 Jan 2000</td>\n",
       "      <td>NaN</td>\n",
       "      <td>NaN</td>\n",
       "      <td>NaN</td>\n",
       "      <td>1086.60</td>\n",
       "    </tr>\n",
       "    <tr>\n",
       "      <th>5642</th>\n",
       "      <td>05 Jan 2000</td>\n",
       "      <td>NaN</td>\n",
       "      <td>NaN</td>\n",
       "      <td>NaN</td>\n",
       "      <td>1055.90</td>\n",
       "    </tr>\n",
       "    <tr>\n",
       "      <th>5643</th>\n",
       "      <td>04 Jan 2000</td>\n",
       "      <td>NaN</td>\n",
       "      <td>NaN</td>\n",
       "      <td>NaN</td>\n",
       "      <td>1092.00</td>\n",
       "    </tr>\n",
       "    <tr>\n",
       "      <th>5644</th>\n",
       "      <td>03 Jan 2000</td>\n",
       "      <td>NaN</td>\n",
       "      <td>NaN</td>\n",
       "      <td>NaN</td>\n",
       "      <td>1054.80</td>\n",
       "    </tr>\n",
       "  </tbody>\n",
       "</table>\n",
       "<p>5645 rows × 5 columns</p>\n",
       "</div>"
      ],
      "text/plain": [
       "             Date      Open      High       Low     Close\n",
       "0     09 Sep 2022  40520.75  40685.95  40280.30  40415.70\n",
       "1     08 Sep 2022  39763.90  40265.75  39706.40  40208.95\n",
       "2     07 Sep 2022  39337.75  39572.05  39258.25  39455.90\n",
       "3     06 Sep 2022  39892.95  40073.75  39564.30  39666.50\n",
       "4     05 Sep 2022  39412.05  39865.20  39407.40  39805.75\n",
       "...           ...       ...       ...       ...       ...\n",
       "5640  07 Jan 2000       NaN       NaN       NaN   1126.90\n",
       "5641  06 Jan 2000       NaN       NaN       NaN   1086.60\n",
       "5642  05 Jan 2000       NaN       NaN       NaN   1055.90\n",
       "5643  04 Jan 2000       NaN       NaN       NaN   1092.00\n",
       "5644  03 Jan 2000       NaN       NaN       NaN   1054.80\n",
       "\n",
       "[5645 rows x 5 columns]"
      ]
     },
     "execution_count": 10,
     "metadata": {},
     "output_type": "execute_result"
    }
   ],
   "source": [
    "bank_data"
   ]
  },
  {
   "cell_type": "code",
   "execution_count": 11,
   "id": "19088716",
   "metadata": {
    "execution": {
     "iopub.execute_input": "2023-02-04T06:38:25.553070Z",
     "iopub.status.busy": "2023-02-04T06:38:25.551823Z",
     "iopub.status.idle": "2023-02-04T06:38:25.561539Z",
     "shell.execute_reply": "2023-02-04T06:38:25.560296Z"
    },
    "papermill": {
     "duration": 0.033141,
     "end_time": "2023-02-04T06:38:25.564152",
     "exception": false,
     "start_time": "2023-02-04T06:38:25.531011",
     "status": "completed"
    },
    "tags": []
   },
   "outputs": [
    {
     "data": {
      "text/plain": [
       "Date        0\n",
       "Open     1367\n",
       "High     1367\n",
       "Low      1367\n",
       "Close       0\n",
       "dtype: int64"
      ]
     },
     "execution_count": 11,
     "metadata": {},
     "output_type": "execute_result"
    }
   ],
   "source": [
    "bank_data.isnull().sum()"
   ]
  },
  {
   "cell_type": "code",
   "execution_count": 12,
   "id": "b38977b5",
   "metadata": {
    "execution": {
     "iopub.execute_input": "2023-02-04T06:38:25.607383Z",
     "iopub.status.busy": "2023-02-04T06:38:25.606848Z",
     "iopub.status.idle": "2023-02-04T06:38:25.821780Z",
     "shell.execute_reply": "2023-02-04T06:38:25.819653Z"
    },
    "papermill": {
     "duration": 0.24048,
     "end_time": "2023-02-04T06:38:25.824331",
     "exception": false,
     "start_time": "2023-02-04T06:38:25.583851",
     "status": "completed"
    },
    "tags": []
   },
   "outputs": [
    {
     "data": {
      "image/png": "[encoded data removed]",
      "text/plain": [
       "<Figure size 432x288 with 1 Axes>"
      ]
     },
     "metadata": {
      "needs_background": "light"
     },
     "output_type": "display_data"
    }
   ],
   "source": [
    "plt.plot(bank_data[\"Close\"])\n",
    "plt.show()"
   ]
  },
  {
   "cell_type": "code",
   "execution_count": 13,
   "id": "2c390c49",
   "metadata": {
    "execution": {
     "iopub.execute_input": "2023-02-04T06:38:25.866438Z",
     "iopub.status.busy": "2023-02-04T06:38:25.866022Z",
     "iopub.status.idle": "2023-02-04T06:38:25.889532Z",
     "shell.execute_reply": "2023-02-04T06:38:25.888176Z"
    },
    "papermill": {
     "duration": 0.048074,
     "end_time": "2023-02-04T06:38:25.892402",
     "exception": false,
     "start_time": "2023-02-04T06:38:25.844328",
     "status": "completed"
    },
    "tags": []
   },
   "outputs": [
    {
     "data": {
      "text/html": [
       "<div>\n",
       "<style scoped>\n",
       "    .dataframe tbody tr th:only-of-type {\n",
       "        vertical-align: middle;\n",
       "    }\n",
       "\n",
       "    .dataframe tbody tr th {\n",
       "        vertical-align: top;\n",
       "    }\n",
       "\n",
       "    .dataframe thead th {\n",
       "        text-align: right;\n",
       "    }\n",
       "</style>\n",
       "<table border=\"1\" class=\"dataframe\">\n",
       "  <thead>\n",
       "    <tr style=\"text-align: right;\">\n",
       "      <th></th>\n",
       "      <th>Date</th>\n",
       "      <th>Open</th>\n",
       "      <th>High</th>\n",
       "      <th>Low</th>\n",
       "      <th>Close</th>\n",
       "    </tr>\n",
       "  </thead>\n",
       "  <tbody>\n",
       "    <tr>\n",
       "      <th>712</th>\n",
       "      <td>31 Oct 2019</td>\n",
       "      <td>30168.65</td>\n",
       "      <td>30415.65</td>\n",
       "      <td>29987.15</td>\n",
       "      <td>30066.25</td>\n",
       "    </tr>\n",
       "    <tr>\n",
       "      <th>956</th>\n",
       "      <td>31 Oct 2018</td>\n",
       "      <td>24823.80</td>\n",
       "      <td>25201.30</td>\n",
       "      <td>24528.35</td>\n",
       "      <td>25153.25</td>\n",
       "    </tr>\n",
       "    <tr>\n",
       "      <th>1204</th>\n",
       "      <td>31 Oct 2017</td>\n",
       "      <td>25042.10</td>\n",
       "      <td>25078.65</td>\n",
       "      <td>24948.10</td>\n",
       "      <td>25019.00</td>\n",
       "    </tr>\n",
       "    <tr>\n",
       "      <th>1945</th>\n",
       "      <td>31 Oct 2014</td>\n",
       "      <td>16812.45</td>\n",
       "      <td>17060.15</td>\n",
       "      <td>16783.65</td>\n",
       "      <td>17045.00</td>\n",
       "    </tr>\n",
       "    <tr>\n",
       "      <th>2190</th>\n",
       "      <td>31 Oct 2013</td>\n",
       "      <td>11211.30</td>\n",
       "      <td>11512.50</td>\n",
       "      <td>11170.05</td>\n",
       "      <td>11473.00</td>\n",
       "    </tr>\n",
       "    <tr>\n",
       "      <th>...</th>\n",
       "      <td>...</td>\n",
       "      <td>...</td>\n",
       "      <td>...</td>\n",
       "      <td>...</td>\n",
       "      <td>...</td>\n",
       "    </tr>\n",
       "    <tr>\n",
       "      <th>3575</th>\n",
       "      <td>01 Apr 2008</td>\n",
       "      <td>6706.70</td>\n",
       "      <td>6727.25</td>\n",
       "      <td>6446.70</td>\n",
       "      <td>6608.10</td>\n",
       "    </tr>\n",
       "    <tr>\n",
       "      <th>4326</th>\n",
       "      <td>01 Apr 2005</td>\n",
       "      <td>NaN</td>\n",
       "      <td>NaN</td>\n",
       "      <td>NaN</td>\n",
       "      <td>3609.10</td>\n",
       "    </tr>\n",
       "    <tr>\n",
       "      <th>4579</th>\n",
       "      <td>01 Apr 2004</td>\n",
       "      <td>NaN</td>\n",
       "      <td>NaN</td>\n",
       "      <td>NaN</td>\n",
       "      <td>2871.00</td>\n",
       "    </tr>\n",
       "    <tr>\n",
       "      <th>4833</th>\n",
       "      <td>01 Apr 2003</td>\n",
       "      <td>NaN</td>\n",
       "      <td>NaN</td>\n",
       "      <td>NaN</td>\n",
       "      <td>1276.40</td>\n",
       "    </tr>\n",
       "    <tr>\n",
       "      <th>5084</th>\n",
       "      <td>01 Apr 2002</td>\n",
       "      <td>NaN</td>\n",
       "      <td>NaN</td>\n",
       "      <td>NaN</td>\n",
       "      <td>1075.50</td>\n",
       "    </tr>\n",
       "  </tbody>\n",
       "</table>\n",
       "<p>5645 rows × 5 columns</p>\n",
       "</div>"
      ],
      "text/plain": [
       "             Date      Open      High       Low     Close\n",
       "712   31 Oct 2019  30168.65  30415.65  29987.15  30066.25\n",
       "956   31 Oct 2018  24823.80  25201.30  24528.35  25153.25\n",
       "1204  31 Oct 2017  25042.10  25078.65  24948.10  25019.00\n",
       "1945  31 Oct 2014  16812.45  17060.15  16783.65  17045.00\n",
       "2190  31 Oct 2013  11211.30  11512.50  11170.05  11473.00\n",
       "...           ...       ...       ...       ...       ...\n",
       "3575  01 Apr 2008   6706.70   6727.25   6446.70   6608.10\n",
       "4326  01 Apr 2005       NaN       NaN       NaN   3609.10\n",
       "4579  01 Apr 2004       NaN       NaN       NaN   2871.00\n",
       "4833  01 Apr 2003       NaN       NaN       NaN   1276.40\n",
       "5084  01 Apr 2002       NaN       NaN       NaN   1075.50\n",
       "\n",
       "[5645 rows x 5 columns]"
      ]
     },
     "execution_count": 13,
     "metadata": {},
     "output_type": "execute_result"
    }
   ],
   "source": [
    "bank_data.sort_values(by=\"Date\",ascending=False)"
   ]
  },
  {
   "cell_type": "code",
   "execution_count": 14,
   "id": "cf66cb7a",
   "metadata": {
    "execution": {
     "iopub.execute_input": "2023-02-04T06:38:25.935069Z",
     "iopub.status.busy": "2023-02-04T06:38:25.934630Z",
     "iopub.status.idle": "2023-02-04T06:38:25.956197Z",
     "shell.execute_reply": "2023-02-04T06:38:25.955144Z"
    },
    "papermill": {
     "duration": 0.045671,
     "end_time": "2023-02-04T06:38:25.958777",
     "exception": false,
     "start_time": "2023-02-04T06:38:25.913106",
     "status": "completed"
    },
    "tags": []
   },
   "outputs": [
    {
     "data": {
      "text/html": [
       "<div>\n",
       "<style scoped>\n",
       "    .dataframe tbody tr th:only-of-type {\n",
       "        vertical-align: middle;\n",
       "    }\n",
       "\n",
       "    .dataframe tbody tr th {\n",
       "        vertical-align: top;\n",
       "    }\n",
       "\n",
       "    .dataframe thead th {\n",
       "        text-align: right;\n",
       "    }\n",
       "</style>\n",
       "<table border=\"1\" class=\"dataframe\">\n",
       "  <thead>\n",
       "    <tr style=\"text-align: right;\">\n",
       "      <th></th>\n",
       "      <th>Date</th>\n",
       "      <th>Open</th>\n",
       "      <th>High</th>\n",
       "      <th>Low</th>\n",
       "      <th>Close</th>\n",
       "    </tr>\n",
       "  </thead>\n",
       "  <tbody>\n",
       "    <tr>\n",
       "      <th>5084</th>\n",
       "      <td>01 Apr 2002</td>\n",
       "      <td>NaN</td>\n",
       "      <td>NaN</td>\n",
       "      <td>NaN</td>\n",
       "      <td>1075.50</td>\n",
       "    </tr>\n",
       "    <tr>\n",
       "      <th>4833</th>\n",
       "      <td>01 Apr 2003</td>\n",
       "      <td>NaN</td>\n",
       "      <td>NaN</td>\n",
       "      <td>NaN</td>\n",
       "      <td>1276.40</td>\n",
       "    </tr>\n",
       "    <tr>\n",
       "      <th>4579</th>\n",
       "      <td>01 Apr 2004</td>\n",
       "      <td>NaN</td>\n",
       "      <td>NaN</td>\n",
       "      <td>NaN</td>\n",
       "      <td>2871.00</td>\n",
       "    </tr>\n",
       "    <tr>\n",
       "      <th>4326</th>\n",
       "      <td>01 Apr 2005</td>\n",
       "      <td>NaN</td>\n",
       "      <td>NaN</td>\n",
       "      <td>NaN</td>\n",
       "      <td>3609.10</td>\n",
       "    </tr>\n",
       "    <tr>\n",
       "      <th>3575</th>\n",
       "      <td>01 Apr 2008</td>\n",
       "      <td>6706.70</td>\n",
       "      <td>6727.25</td>\n",
       "      <td>6446.70</td>\n",
       "      <td>6608.10</td>\n",
       "    </tr>\n",
       "    <tr>\n",
       "      <th>...</th>\n",
       "      <td>...</td>\n",
       "      <td>...</td>\n",
       "      <td>...</td>\n",
       "      <td>...</td>\n",
       "      <td>...</td>\n",
       "    </tr>\n",
       "    <tr>\n",
       "      <th>2190</th>\n",
       "      <td>31 Oct 2013</td>\n",
       "      <td>11211.30</td>\n",
       "      <td>11512.50</td>\n",
       "      <td>11170.05</td>\n",
       "      <td>11473.00</td>\n",
       "    </tr>\n",
       "    <tr>\n",
       "      <th>1945</th>\n",
       "      <td>31 Oct 2014</td>\n",
       "      <td>16812.45</td>\n",
       "      <td>17060.15</td>\n",
       "      <td>16783.65</td>\n",
       "      <td>17045.00</td>\n",
       "    </tr>\n",
       "    <tr>\n",
       "      <th>1204</th>\n",
       "      <td>31 Oct 2017</td>\n",
       "      <td>25042.10</td>\n",
       "      <td>25078.65</td>\n",
       "      <td>24948.10</td>\n",
       "      <td>25019.00</td>\n",
       "    </tr>\n",
       "    <tr>\n",
       "      <th>956</th>\n",
       "      <td>31 Oct 2018</td>\n",
       "      <td>24823.80</td>\n",
       "      <td>25201.30</td>\n",
       "      <td>24528.35</td>\n",
       "      <td>25153.25</td>\n",
       "    </tr>\n",
       "    <tr>\n",
       "      <th>712</th>\n",
       "      <td>31 Oct 2019</td>\n",
       "      <td>30168.65</td>\n",
       "      <td>30415.65</td>\n",
       "      <td>29987.15</td>\n",
       "      <td>30066.25</td>\n",
       "    </tr>\n",
       "  </tbody>\n",
       "</table>\n",
       "<p>5645 rows × 5 columns</p>\n",
       "</div>"
      ],
      "text/plain": [
       "             Date      Open      High       Low     Close\n",
       "5084  01 Apr 2002       NaN       NaN       NaN   1075.50\n",
       "4833  01 Apr 2003       NaN       NaN       NaN   1276.40\n",
       "4579  01 Apr 2004       NaN       NaN       NaN   2871.00\n",
       "4326  01 Apr 2005       NaN       NaN       NaN   3609.10\n",
       "3575  01 Apr 2008   6706.70   6727.25   6446.70   6608.10\n",
       "...           ...       ...       ...       ...       ...\n",
       "2190  31 Oct 2013  11211.30  11512.50  11170.05  11473.00\n",
       "1945  31 Oct 2014  16812.45  17060.15  16783.65  17045.00\n",
       "1204  31 Oct 2017  25042.10  25078.65  24948.10  25019.00\n",
       "956   31 Oct 2018  24823.80  25201.30  24528.35  25153.25\n",
       "712   31 Oct 2019  30168.65  30415.65  29987.15  30066.25\n",
       "\n",
       "[5645 rows x 5 columns]"
      ]
     },
     "execution_count": 14,
     "metadata": {},
     "output_type": "execute_result"
    }
   ],
   "source": [
    "bank_data.sort_values(by=\"Date\",ascending=True)"
   ]
  },
  {
   "cell_type": "code",
   "execution_count": 15,
   "id": "d179565a",
   "metadata": {
    "execution": {
     "iopub.execute_input": "2023-02-04T06:38:26.001956Z",
     "iopub.status.busy": "2023-02-04T06:38:26.001484Z",
     "iopub.status.idle": "2023-02-04T06:38:26.020932Z",
     "shell.execute_reply": "2023-02-04T06:38:26.019682Z"
    },
    "papermill": {
     "duration": 0.043926,
     "end_time": "2023-02-04T06:38:26.023339",
     "exception": false,
     "start_time": "2023-02-04T06:38:25.979413",
     "status": "completed"
    },
    "tags": []
   },
   "outputs": [
    {
     "data": {
      "text/html": [
       "<div>\n",
       "<style scoped>\n",
       "    .dataframe tbody tr th:only-of-type {\n",
       "        vertical-align: middle;\n",
       "    }\n",
       "\n",
       "    .dataframe tbody tr th {\n",
       "        vertical-align: top;\n",
       "    }\n",
       "\n",
       "    .dataframe thead th {\n",
       "        text-align: right;\n",
       "    }\n",
       "</style>\n",
       "<table border=\"1\" class=\"dataframe\">\n",
       "  <thead>\n",
       "    <tr style=\"text-align: right;\">\n",
       "      <th></th>\n",
       "      <th>Date</th>\n",
       "      <th>Open</th>\n",
       "      <th>High</th>\n",
       "      <th>Low</th>\n",
       "      <th>Close</th>\n",
       "    </tr>\n",
       "  </thead>\n",
       "  <tbody>\n",
       "    <tr>\n",
       "      <th>5644</th>\n",
       "      <td>03 Jan 2000</td>\n",
       "      <td>NaN</td>\n",
       "      <td>NaN</td>\n",
       "      <td>NaN</td>\n",
       "      <td>1054.80</td>\n",
       "    </tr>\n",
       "    <tr>\n",
       "      <th>5643</th>\n",
       "      <td>04 Jan 2000</td>\n",
       "      <td>NaN</td>\n",
       "      <td>NaN</td>\n",
       "      <td>NaN</td>\n",
       "      <td>1092.00</td>\n",
       "    </tr>\n",
       "    <tr>\n",
       "      <th>5642</th>\n",
       "      <td>05 Jan 2000</td>\n",
       "      <td>NaN</td>\n",
       "      <td>NaN</td>\n",
       "      <td>NaN</td>\n",
       "      <td>1055.90</td>\n",
       "    </tr>\n",
       "    <tr>\n",
       "      <th>5641</th>\n",
       "      <td>06 Jan 2000</td>\n",
       "      <td>NaN</td>\n",
       "      <td>NaN</td>\n",
       "      <td>NaN</td>\n",
       "      <td>1086.60</td>\n",
       "    </tr>\n",
       "    <tr>\n",
       "      <th>5640</th>\n",
       "      <td>07 Jan 2000</td>\n",
       "      <td>NaN</td>\n",
       "      <td>NaN</td>\n",
       "      <td>NaN</td>\n",
       "      <td>1126.90</td>\n",
       "    </tr>\n",
       "    <tr>\n",
       "      <th>...</th>\n",
       "      <td>...</td>\n",
       "      <td>...</td>\n",
       "      <td>...</td>\n",
       "      <td>...</td>\n",
       "      <td>...</td>\n",
       "    </tr>\n",
       "    <tr>\n",
       "      <th>4</th>\n",
       "      <td>05 Sep 2022</td>\n",
       "      <td>39412.05</td>\n",
       "      <td>39865.20</td>\n",
       "      <td>39407.40</td>\n",
       "      <td>39805.75</td>\n",
       "    </tr>\n",
       "    <tr>\n",
       "      <th>3</th>\n",
       "      <td>06 Sep 2022</td>\n",
       "      <td>39892.95</td>\n",
       "      <td>40073.75</td>\n",
       "      <td>39564.30</td>\n",
       "      <td>39666.50</td>\n",
       "    </tr>\n",
       "    <tr>\n",
       "      <th>2</th>\n",
       "      <td>07 Sep 2022</td>\n",
       "      <td>39337.75</td>\n",
       "      <td>39572.05</td>\n",
       "      <td>39258.25</td>\n",
       "      <td>39455.90</td>\n",
       "    </tr>\n",
       "    <tr>\n",
       "      <th>1</th>\n",
       "      <td>08 Sep 2022</td>\n",
       "      <td>39763.90</td>\n",
       "      <td>40265.75</td>\n",
       "      <td>39706.40</td>\n",
       "      <td>40208.95</td>\n",
       "    </tr>\n",
       "    <tr>\n",
       "      <th>0</th>\n",
       "      <td>09 Sep 2022</td>\n",
       "      <td>40520.75</td>\n",
       "      <td>40685.95</td>\n",
       "      <td>40280.30</td>\n",
       "      <td>40415.70</td>\n",
       "    </tr>\n",
       "  </tbody>\n",
       "</table>\n",
       "<p>5645 rows × 5 columns</p>\n",
       "</div>"
      ],
      "text/plain": [
       "             Date      Open      High       Low     Close\n",
       "5644  03 Jan 2000       NaN       NaN       NaN   1054.80\n",
       "5643  04 Jan 2000       NaN       NaN       NaN   1092.00\n",
       "5642  05 Jan 2000       NaN       NaN       NaN   1055.90\n",
       "5641  06 Jan 2000       NaN       NaN       NaN   1086.60\n",
       "5640  07 Jan 2000       NaN       NaN       NaN   1126.90\n",
       "...           ...       ...       ...       ...       ...\n",
       "4     05 Sep 2022  39412.05  39865.20  39407.40  39805.75\n",
       "3     06 Sep 2022  39892.95  40073.75  39564.30  39666.50\n",
       "2     07 Sep 2022  39337.75  39572.05  39258.25  39455.90\n",
       "1     08 Sep 2022  39763.90  40265.75  39706.40  40208.95\n",
       "0     09 Sep 2022  40520.75  40685.95  40280.30  40415.70\n",
       "\n",
       "[5645 rows x 5 columns]"
      ]
     },
     "execution_count": 15,
     "metadata": {},
     "output_type": "execute_result"
    }
   ],
   "source": [
    "#bank_data[\"Date\"] = [::-1]\n",
    "bank_data.sort_index(ascending=False)"
   ]
  },
  {
   "cell_type": "code",
   "execution_count": 16,
   "id": "91b321c3",
   "metadata": {
    "execution": {
     "iopub.execute_input": "2023-02-04T06:38:26.067592Z",
     "iopub.status.busy": "2023-02-04T06:38:26.066908Z",
     "iopub.status.idle": "2023-02-04T06:38:26.393355Z",
     "shell.execute_reply": "2023-02-04T06:38:26.392054Z"
    },
    "papermill": {
     "duration": 0.351784,
     "end_time": "2023-02-04T06:38:26.395958",
     "exception": false,
     "start_time": "2023-02-04T06:38:26.044174",
     "status": "completed"
    },
    "tags": []
   },
   "outputs": [
    {
     "data": {
      "text/plain": [
       "<AxesSubplot:>"
      ]
     },
     "execution_count": 16,
     "metadata": {},
     "output_type": "execute_result"
    },
    {
     "data": {
      "image/png": "[encoded data removed]",
      "text/plain": [
       "<Figure size 720x504 with 2 Axes>"
      ]
     },
     "metadata": {
      "needs_background": "light"
     },
     "output_type": "display_data"
    }
   ],
   "source": [
    "\n",
    "plt.figure(figsize=(10,7))\n",
    "sns.heatmap(data_yes.corr(),annot= True)"
   ]
  },
  {
   "cell_type": "markdown",
   "id": "688aad42",
   "metadata": {
    "papermill": {
     "duration": 0.020996,
     "end_time": "2023-02-04T06:38:26.438359",
     "exception": false,
     "start_time": "2023-02-04T06:38:26.417363",
     "status": "completed"
    },
    "tags": []
   },
   "source": []
  },
  {
   "cell_type": "code",
   "execution_count": 17,
   "id": "9a201578",
   "metadata": {
    "execution": {
     "iopub.execute_input": "2023-02-04T06:38:26.483594Z",
     "iopub.status.busy": "2023-02-04T06:38:26.483162Z",
     "iopub.status.idle": "2023-02-04T06:38:26.712063Z",
     "shell.execute_reply": "2023-02-04T06:38:26.710809Z"
    },
    "papermill": {
     "duration": 0.255365,
     "end_time": "2023-02-04T06:38:26.714919",
     "exception": false,
     "start_time": "2023-02-04T06:38:26.459554",
     "status": "completed"
    },
    "tags": []
   },
   "outputs": [
    {
     "data": {
      "image/png": "[encoded data removed]",
      "text/plain": [
       "<Figure size 432x288 with 1 Axes>"
      ]
     },
     "metadata": {
      "needs_background": "light"
     },
     "output_type": "display_data"
    }
   ],
   "source": [
    "sns.boxplot(data=data_yes)\n",
    "plt.show()"
   ]
  },
  {
   "cell_type": "code",
   "execution_count": 18,
   "id": "84c9d7ea",
   "metadata": {
    "execution": {
     "iopub.execute_input": "2023-02-04T06:38:26.759942Z",
     "iopub.status.busy": "2023-02-04T06:38:26.759507Z",
     "iopub.status.idle": "2023-02-04T06:38:26.765446Z",
     "shell.execute_reply": "2023-02-04T06:38:26.764101Z"
    },
    "papermill": {
     "duration": 0.031306,
     "end_time": "2023-02-04T06:38:26.767830",
     "exception": false,
     "start_time": "2023-02-04T06:38:26.736524",
     "status": "completed"
    },
    "tags": []
   },
   "outputs": [],
   "source": [
    "import datetime as dt"
   ]
  },
  {
   "cell_type": "code",
   "execution_count": 19,
   "id": "d5266425",
   "metadata": {
    "execution": {
     "iopub.execute_input": "2023-02-04T06:38:26.813561Z",
     "iopub.status.busy": "2023-02-04T06:38:26.812255Z",
     "iopub.status.idle": "2023-02-04T06:38:26.821360Z",
     "shell.execute_reply": "2023-02-04T06:38:26.820185Z"
    },
    "papermill": {
     "duration": 0.034385,
     "end_time": "2023-02-04T06:38:26.823724",
     "exception": false,
     "start_time": "2023-02-04T06:38:26.789339",
     "status": "completed"
    },
    "tags": []
   },
   "outputs": [
    {
     "data": {
      "text/plain": [
       "0      Jul-05\n",
       "1      Aug-05\n",
       "2      Sep-05\n",
       "3      Oct-05\n",
       "4      Nov-05\n",
       "        ...  \n",
       "180    Jul-20\n",
       "181    Aug-20\n",
       "182    Sep-20\n",
       "183    Oct-20\n",
       "184    Nov-20\n",
       "Name: Date, Length: 185, dtype: object"
      ]
     },
     "execution_count": 19,
     "metadata": {},
     "output_type": "execute_result"
    }
   ],
   "source": [
    "data_yes[\"Date\"]"
   ]
  },
  {
   "cell_type": "code",
   "execution_count": 20,
   "id": "aca0e6a8",
   "metadata": {
    "execution": {
     "iopub.execute_input": "2023-02-04T06:38:26.869771Z",
     "iopub.status.busy": "2023-02-04T06:38:26.868455Z",
     "iopub.status.idle": "2023-02-04T06:38:26.879341Z",
     "shell.execute_reply": "2023-02-04T06:38:26.878144Z"
    },
    "papermill": {
     "duration": 0.036985,
     "end_time": "2023-02-04T06:38:26.882347",
     "exception": false,
     "start_time": "2023-02-04T06:38:26.845362",
     "status": "completed"
    },
    "tags": []
   },
   "outputs": [],
   "source": [
    "data_yes[\"DATE2\"]= pd.to_datetime(data_yes[\"Date\"],format = \"%b-%y\")"
   ]
  },
  {
   "cell_type": "code",
   "execution_count": 21,
   "id": "653335d6",
   "metadata": {
    "execution": {
     "iopub.execute_input": "2023-02-04T06:38:26.928491Z",
     "iopub.status.busy": "2023-02-04T06:38:26.928051Z",
     "iopub.status.idle": "2023-02-04T06:38:26.936439Z",
     "shell.execute_reply": "2023-02-04T06:38:26.935276Z"
    },
    "papermill": {
     "duration": 0.034181,
     "end_time": "2023-02-04T06:38:26.938808",
     "exception": false,
     "start_time": "2023-02-04T06:38:26.904627",
     "status": "completed"
    },
    "tags": []
   },
   "outputs": [
    {
     "data": {
      "text/plain": [
       "0      Jul-05\n",
       "1      Aug-05\n",
       "2      Sep-05\n",
       "3      Oct-05\n",
       "4      Nov-05\n",
       "        ...  \n",
       "180    Jul-20\n",
       "181    Aug-20\n",
       "182    Sep-20\n",
       "183    Oct-20\n",
       "184    Nov-20\n",
       "Name: Date, Length: 185, dtype: object"
      ]
     },
     "execution_count": 21,
     "metadata": {},
     "output_type": "execute_result"
    }
   ],
   "source": [
    " data_yes[\"Date\"]"
   ]
  },
  {
   "cell_type": "code",
   "execution_count": 22,
   "id": "dfd6e6ee",
   "metadata": {
    "execution": {
     "iopub.execute_input": "2023-02-04T06:38:26.985294Z",
     "iopub.status.busy": "2023-02-04T06:38:26.984825Z",
     "iopub.status.idle": "2023-02-04T06:38:27.000689Z",
     "shell.execute_reply": "2023-02-04T06:38:26.999460Z"
    },
    "papermill": {
     "duration": 0.041868,
     "end_time": "2023-02-04T06:38:27.003369",
     "exception": false,
     "start_time": "2023-02-04T06:38:26.961501",
     "status": "completed"
    },
    "tags": []
   },
   "outputs": [
    {
     "data": {
      "text/html": [
       "<div>\n",
       "<style scoped>\n",
       "    .dataframe tbody tr th:only-of-type {\n",
       "        vertical-align: middle;\n",
       "    }\n",
       "\n",
       "    .dataframe tbody tr th {\n",
       "        vertical-align: top;\n",
       "    }\n",
       "\n",
       "    .dataframe thead th {\n",
       "        text-align: right;\n",
       "    }\n",
       "</style>\n",
       "<table border=\"1\" class=\"dataframe\">\n",
       "  <thead>\n",
       "    <tr style=\"text-align: right;\">\n",
       "      <th></th>\n",
       "      <th>Date</th>\n",
       "      <th>Open</th>\n",
       "      <th>High</th>\n",
       "      <th>Low</th>\n",
       "      <th>Close</th>\n",
       "      <th>DATE2</th>\n",
       "    </tr>\n",
       "  </thead>\n",
       "  <tbody>\n",
       "    <tr>\n",
       "      <th>0</th>\n",
       "      <td>Jul-05</td>\n",
       "      <td>13.00</td>\n",
       "      <td>14.00</td>\n",
       "      <td>11.25</td>\n",
       "      <td>12.46</td>\n",
       "      <td>2005-07-01</td>\n",
       "    </tr>\n",
       "    <tr>\n",
       "      <th>1</th>\n",
       "      <td>Aug-05</td>\n",
       "      <td>12.58</td>\n",
       "      <td>14.88</td>\n",
       "      <td>12.55</td>\n",
       "      <td>13.42</td>\n",
       "      <td>2005-08-01</td>\n",
       "    </tr>\n",
       "    <tr>\n",
       "      <th>2</th>\n",
       "      <td>Sep-05</td>\n",
       "      <td>13.48</td>\n",
       "      <td>14.87</td>\n",
       "      <td>12.27</td>\n",
       "      <td>13.30</td>\n",
       "      <td>2005-09-01</td>\n",
       "    </tr>\n",
       "    <tr>\n",
       "      <th>3</th>\n",
       "      <td>Oct-05</td>\n",
       "      <td>13.20</td>\n",
       "      <td>14.47</td>\n",
       "      <td>12.40</td>\n",
       "      <td>12.99</td>\n",
       "      <td>2005-10-01</td>\n",
       "    </tr>\n",
       "    <tr>\n",
       "      <th>4</th>\n",
       "      <td>Nov-05</td>\n",
       "      <td>13.35</td>\n",
       "      <td>13.88</td>\n",
       "      <td>12.88</td>\n",
       "      <td>13.41</td>\n",
       "      <td>2005-11-01</td>\n",
       "    </tr>\n",
       "  </tbody>\n",
       "</table>\n",
       "</div>"
      ],
      "text/plain": [
       "     Date   Open   High    Low  Close      DATE2\n",
       "0  Jul-05  13.00  14.00  11.25  12.46 2005-07-01\n",
       "1  Aug-05  12.58  14.88  12.55  13.42 2005-08-01\n",
       "2  Sep-05  13.48  14.87  12.27  13.30 2005-09-01\n",
       "3  Oct-05  13.20  14.47  12.40  12.99 2005-10-01\n",
       "4  Nov-05  13.35  13.88  12.88  13.41 2005-11-01"
      ]
     },
     "execution_count": 22,
     "metadata": {},
     "output_type": "execute_result"
    }
   ],
   "source": [
    "data_yes.head()"
   ]
  },
  {
   "cell_type": "code",
   "execution_count": 23,
   "id": "ae08b416",
   "metadata": {
    "execution": {
     "iopub.execute_input": "2023-02-04T06:38:27.049475Z",
     "iopub.status.busy": "2023-02-04T06:38:27.049051Z",
     "iopub.status.idle": "2023-02-04T06:38:27.058417Z",
     "shell.execute_reply": "2023-02-04T06:38:27.057205Z"
    },
    "papermill": {
     "duration": 0.035499,
     "end_time": "2023-02-04T06:38:27.060777",
     "exception": false,
     "start_time": "2023-02-04T06:38:27.025278",
     "status": "completed"
    },
    "tags": []
   },
   "outputs": [
    {
     "data": {
      "text/plain": [
       "0       7\n",
       "1       8\n",
       "2       9\n",
       "3      10\n",
       "4      11\n",
       "       ..\n",
       "180     7\n",
       "181     8\n",
       "182     9\n",
       "183    10\n",
       "184    11\n",
       "Name: DATE2, Length: 185, dtype: int64"
      ]
     },
     "execution_count": 23,
     "metadata": {},
     "output_type": "execute_result"
    }
   ],
   "source": [
    "data_yes['DATE2'].dt.month"
   ]
  },
  {
   "cell_type": "code",
   "execution_count": 24,
   "id": "80a87d7a",
   "metadata": {
    "execution": {
     "iopub.execute_input": "2023-02-04T06:38:27.107330Z",
     "iopub.status.busy": "2023-02-04T06:38:27.106629Z",
     "iopub.status.idle": "2023-02-04T06:38:27.112920Z",
     "shell.execute_reply": "2023-02-04T06:38:27.112068Z"
    },
    "papermill": {
     "duration": 0.032502,
     "end_time": "2023-02-04T06:38:27.115350",
     "exception": false,
     "start_time": "2023-02-04T06:38:27.082848",
     "status": "completed"
    },
    "tags": []
   },
   "outputs": [],
   "source": [
    "data_yes[\"Month\"]=data_yes['DATE2'].dt.month"
   ]
  },
  {
   "cell_type": "code",
   "execution_count": 25,
   "id": "1eb0799a",
   "metadata": {
    "execution": {
     "iopub.execute_input": "2023-02-04T06:38:27.161958Z",
     "iopub.status.busy": "2023-02-04T06:38:27.161278Z",
     "iopub.status.idle": "2023-02-04T06:38:27.167619Z",
     "shell.execute_reply": "2023-02-04T06:38:27.166627Z"
    },
    "papermill": {
     "duration": 0.032851,
     "end_time": "2023-02-04T06:38:27.170057",
     "exception": false,
     "start_time": "2023-02-04T06:38:27.137206",
     "status": "completed"
    },
    "tags": []
   },
   "outputs": [],
   "source": [
    "data_yes[\"Year\"]=data_yes['DATE2'].dt.year"
   ]
  },
  {
   "cell_type": "code",
   "execution_count": 26,
   "id": "d7426f60",
   "metadata": {
    "execution": {
     "iopub.execute_input": "2023-02-04T06:38:27.217599Z",
     "iopub.status.busy": "2023-02-04T06:38:27.216865Z",
     "iopub.status.idle": "2023-02-04T06:38:27.234141Z",
     "shell.execute_reply": "2023-02-04T06:38:27.232740Z"
    },
    "papermill": {
     "duration": 0.044287,
     "end_time": "2023-02-04T06:38:27.236920",
     "exception": false,
     "start_time": "2023-02-04T06:38:27.192633",
     "status": "completed"
    },
    "tags": []
   },
   "outputs": [
    {
     "data": {
      "text/html": [
       "<div>\n",
       "<style scoped>\n",
       "    .dataframe tbody tr th:only-of-type {\n",
       "        vertical-align: middle;\n",
       "    }\n",
       "\n",
       "    .dataframe tbody tr th {\n",
       "        vertical-align: top;\n",
       "    }\n",
       "\n",
       "    .dataframe thead th {\n",
       "        text-align: right;\n",
       "    }\n",
       "</style>\n",
       "<table border=\"1\" class=\"dataframe\">\n",
       "  <thead>\n",
       "    <tr style=\"text-align: right;\">\n",
       "      <th></th>\n",
       "      <th>Date</th>\n",
       "      <th>Open</th>\n",
       "      <th>High</th>\n",
       "      <th>Low</th>\n",
       "      <th>Close</th>\n",
       "      <th>DATE2</th>\n",
       "      <th>Month</th>\n",
       "      <th>Year</th>\n",
       "    </tr>\n",
       "  </thead>\n",
       "  <tbody>\n",
       "    <tr>\n",
       "      <th>0</th>\n",
       "      <td>Jul-05</td>\n",
       "      <td>13.00</td>\n",
       "      <td>14.00</td>\n",
       "      <td>11.25</td>\n",
       "      <td>12.46</td>\n",
       "      <td>2005-07-01</td>\n",
       "      <td>7</td>\n",
       "      <td>2005</td>\n",
       "    </tr>\n",
       "    <tr>\n",
       "      <th>1</th>\n",
       "      <td>Aug-05</td>\n",
       "      <td>12.58</td>\n",
       "      <td>14.88</td>\n",
       "      <td>12.55</td>\n",
       "      <td>13.42</td>\n",
       "      <td>2005-08-01</td>\n",
       "      <td>8</td>\n",
       "      <td>2005</td>\n",
       "    </tr>\n",
       "    <tr>\n",
       "      <th>2</th>\n",
       "      <td>Sep-05</td>\n",
       "      <td>13.48</td>\n",
       "      <td>14.87</td>\n",
       "      <td>12.27</td>\n",
       "      <td>13.30</td>\n",
       "      <td>2005-09-01</td>\n",
       "      <td>9</td>\n",
       "      <td>2005</td>\n",
       "    </tr>\n",
       "    <tr>\n",
       "      <th>3</th>\n",
       "      <td>Oct-05</td>\n",
       "      <td>13.20</td>\n",
       "      <td>14.47</td>\n",
       "      <td>12.40</td>\n",
       "      <td>12.99</td>\n",
       "      <td>2005-10-01</td>\n",
       "      <td>10</td>\n",
       "      <td>2005</td>\n",
       "    </tr>\n",
       "    <tr>\n",
       "      <th>4</th>\n",
       "      <td>Nov-05</td>\n",
       "      <td>13.35</td>\n",
       "      <td>13.88</td>\n",
       "      <td>12.88</td>\n",
       "      <td>13.41</td>\n",
       "      <td>2005-11-01</td>\n",
       "      <td>11</td>\n",
       "      <td>2005</td>\n",
       "    </tr>\n",
       "  </tbody>\n",
       "</table>\n",
       "</div>"
      ],
      "text/plain": [
       "     Date   Open   High    Low  Close      DATE2  Month  Year\n",
       "0  Jul-05  13.00  14.00  11.25  12.46 2005-07-01      7  2005\n",
       "1  Aug-05  12.58  14.88  12.55  13.42 2005-08-01      8  2005\n",
       "2  Sep-05  13.48  14.87  12.27  13.30 2005-09-01      9  2005\n",
       "3  Oct-05  13.20  14.47  12.40  12.99 2005-10-01     10  2005\n",
       "4  Nov-05  13.35  13.88  12.88  13.41 2005-11-01     11  2005"
      ]
     },
     "execution_count": 26,
     "metadata": {},
     "output_type": "execute_result"
    }
   ],
   "source": [
    "data_yes.head()"
   ]
  },
  {
   "cell_type": "code",
   "execution_count": 27,
   "id": "ca885401",
   "metadata": {
    "execution": {
     "iopub.execute_input": "2023-02-04T06:38:27.284040Z",
     "iopub.status.busy": "2023-02-04T06:38:27.283585Z",
     "iopub.status.idle": "2023-02-04T06:38:27.290140Z",
     "shell.execute_reply": "2023-02-04T06:38:27.288736Z"
    },
    "papermill": {
     "duration": 0.033186,
     "end_time": "2023-02-04T06:38:27.292573",
     "exception": false,
     "start_time": "2023-02-04T06:38:27.259387",
     "status": "completed"
    },
    "tags": []
   },
   "outputs": [],
   "source": [
    "#Creating new features\n",
    "data_yes['Open-High'] = data_yes[\"Open\"]-data_yes[\"High\"]"
   ]
  },
  {
   "cell_type": "code",
   "execution_count": 28,
   "id": "78fcf199",
   "metadata": {
    "execution": {
     "iopub.execute_input": "2023-02-04T06:38:27.341134Z",
     "iopub.status.busy": "2023-02-04T06:38:27.340637Z",
     "iopub.status.idle": "2023-02-04T06:38:27.356952Z",
     "shell.execute_reply": "2023-02-04T06:38:27.356006Z"
    },
    "papermill": {
     "duration": 0.044094,
     "end_time": "2023-02-04T06:38:27.359133",
     "exception": false,
     "start_time": "2023-02-04T06:38:27.315039",
     "status": "completed"
    },
    "tags": []
   },
   "outputs": [
    {
     "data": {
      "text/html": [
       "<div>\n",
       "<style scoped>\n",
       "    .dataframe tbody tr th:only-of-type {\n",
       "        vertical-align: middle;\n",
       "    }\n",
       "\n",
       "    .dataframe tbody tr th {\n",
       "        vertical-align: top;\n",
       "    }\n",
       "\n",
       "    .dataframe thead th {\n",
       "        text-align: right;\n",
       "    }\n",
       "</style>\n",
       "<table border=\"1\" class=\"dataframe\">\n",
       "  <thead>\n",
       "    <tr style=\"text-align: right;\">\n",
       "      <th></th>\n",
       "      <th>Date</th>\n",
       "      <th>Open</th>\n",
       "      <th>High</th>\n",
       "      <th>Low</th>\n",
       "      <th>Close</th>\n",
       "      <th>DATE2</th>\n",
       "      <th>Month</th>\n",
       "      <th>Year</th>\n",
       "      <th>Open-High</th>\n",
       "    </tr>\n",
       "  </thead>\n",
       "  <tbody>\n",
       "    <tr>\n",
       "      <th>0</th>\n",
       "      <td>Jul-05</td>\n",
       "      <td>13.00</td>\n",
       "      <td>14.00</td>\n",
       "      <td>11.25</td>\n",
       "      <td>12.46</td>\n",
       "      <td>2005-07-01</td>\n",
       "      <td>7</td>\n",
       "      <td>2005</td>\n",
       "      <td>-1.00</td>\n",
       "    </tr>\n",
       "    <tr>\n",
       "      <th>1</th>\n",
       "      <td>Aug-05</td>\n",
       "      <td>12.58</td>\n",
       "      <td>14.88</td>\n",
       "      <td>12.55</td>\n",
       "      <td>13.42</td>\n",
       "      <td>2005-08-01</td>\n",
       "      <td>8</td>\n",
       "      <td>2005</td>\n",
       "      <td>-2.30</td>\n",
       "    </tr>\n",
       "    <tr>\n",
       "      <th>2</th>\n",
       "      <td>Sep-05</td>\n",
       "      <td>13.48</td>\n",
       "      <td>14.87</td>\n",
       "      <td>12.27</td>\n",
       "      <td>13.30</td>\n",
       "      <td>2005-09-01</td>\n",
       "      <td>9</td>\n",
       "      <td>2005</td>\n",
       "      <td>-1.39</td>\n",
       "    </tr>\n",
       "    <tr>\n",
       "      <th>3</th>\n",
       "      <td>Oct-05</td>\n",
       "      <td>13.20</td>\n",
       "      <td>14.47</td>\n",
       "      <td>12.40</td>\n",
       "      <td>12.99</td>\n",
       "      <td>2005-10-01</td>\n",
       "      <td>10</td>\n",
       "      <td>2005</td>\n",
       "      <td>-1.27</td>\n",
       "    </tr>\n",
       "    <tr>\n",
       "      <th>4</th>\n",
       "      <td>Nov-05</td>\n",
       "      <td>13.35</td>\n",
       "      <td>13.88</td>\n",
       "      <td>12.88</td>\n",
       "      <td>13.41</td>\n",
       "      <td>2005-11-01</td>\n",
       "      <td>11</td>\n",
       "      <td>2005</td>\n",
       "      <td>-0.53</td>\n",
       "    </tr>\n",
       "  </tbody>\n",
       "</table>\n",
       "</div>"
      ],
      "text/plain": [
       "     Date   Open   High    Low  Close      DATE2  Month  Year  Open-High\n",
       "0  Jul-05  13.00  14.00  11.25  12.46 2005-07-01      7  2005      -1.00\n",
       "1  Aug-05  12.58  14.88  12.55  13.42 2005-08-01      8  2005      -2.30\n",
       "2  Sep-05  13.48  14.87  12.27  13.30 2005-09-01      9  2005      -1.39\n",
       "3  Oct-05  13.20  14.47  12.40  12.99 2005-10-01     10  2005      -1.27\n",
       "4  Nov-05  13.35  13.88  12.88  13.41 2005-11-01     11  2005      -0.53"
      ]
     },
     "execution_count": 28,
     "metadata": {},
     "output_type": "execute_result"
    }
   ],
   "source": [
    "data_yes.head()"
   ]
  },
  {
   "cell_type": "code",
   "execution_count": 29,
   "id": "5d7722e6",
   "metadata": {
    "execution": {
     "iopub.execute_input": "2023-02-04T06:38:27.406614Z",
     "iopub.status.busy": "2023-02-04T06:38:27.405995Z",
     "iopub.status.idle": "2023-02-04T06:38:27.412209Z",
     "shell.execute_reply": "2023-02-04T06:38:27.410889Z"
    },
    "papermill": {
     "duration": 0.033344,
     "end_time": "2023-02-04T06:38:27.415127",
     "exception": false,
     "start_time": "2023-02-04T06:38:27.381783",
     "status": "completed"
    },
    "tags": []
   },
   "outputs": [],
   "source": [
    "data_yes['High-Low'] = data_yes[\"High\"]-data_yes[\"Low\"]"
   ]
  },
  {
   "cell_type": "code",
   "execution_count": 30,
   "id": "0a3fcde6",
   "metadata": {
    "execution": {
     "iopub.execute_input": "2023-02-04T06:38:27.462386Z",
     "iopub.status.busy": "2023-02-04T06:38:27.461989Z",
     "iopub.status.idle": "2023-02-04T06:38:27.468364Z",
     "shell.execute_reply": "2023-02-04T06:38:27.467227Z"
    },
    "papermill": {
     "duration": 0.032887,
     "end_time": "2023-02-04T06:38:27.470682",
     "exception": false,
     "start_time": "2023-02-04T06:38:27.437795",
     "status": "completed"
    },
    "tags": []
   },
   "outputs": [],
   "source": [
    "data_yes[\"Open-Low\"]=data_yes[\"Open\"]-data_yes[\"Low\"]"
   ]
  },
  {
   "cell_type": "code",
   "execution_count": 31,
   "id": "2562b46d",
   "metadata": {
    "execution": {
     "iopub.execute_input": "2023-02-04T06:38:27.518287Z",
     "iopub.status.busy": "2023-02-04T06:38:27.517860Z",
     "iopub.status.idle": "2023-02-04T06:38:27.702836Z",
     "shell.execute_reply": "2023-02-04T06:38:27.701465Z"
    },
    "papermill": {
     "duration": 0.211812,
     "end_time": "2023-02-04T06:38:27.705552",
     "exception": false,
     "start_time": "2023-02-04T06:38:27.493740",
     "status": "completed"
    },
    "tags": []
   },
   "outputs": [],
   "source": [
    "#x=highlow,y=close\n",
    "from sklearn.model_selection import train_test_split\n",
    "x=data_yes.drop(columns=[\"Date\",\"Close\",\"Open-Low\",\"Month\",\"Year\",\"DATE2\",\"High-Low\",\"Open-High\"])"
   ]
  },
  {
   "cell_type": "code",
   "execution_count": 32,
   "id": "4d94c968",
   "metadata": {
    "execution": {
     "iopub.execute_input": "2023-02-04T06:38:27.753087Z",
     "iopub.status.busy": "2023-02-04T06:38:27.752614Z",
     "iopub.status.idle": "2023-02-04T06:38:27.767934Z",
     "shell.execute_reply": "2023-02-04T06:38:27.766638Z"
    },
    "papermill": {
     "duration": 0.04224,
     "end_time": "2023-02-04T06:38:27.770564",
     "exception": false,
     "start_time": "2023-02-04T06:38:27.728324",
     "status": "completed"
    },
    "tags": []
   },
   "outputs": [
    {
     "data": {
      "text/html": [
       "<div>\n",
       "<style scoped>\n",
       "    .dataframe tbody tr th:only-of-type {\n",
       "        vertical-align: middle;\n",
       "    }\n",
       "\n",
       "    .dataframe tbody tr th {\n",
       "        vertical-align: top;\n",
       "    }\n",
       "\n",
       "    .dataframe thead th {\n",
       "        text-align: right;\n",
       "    }\n",
       "</style>\n",
       "<table border=\"1\" class=\"dataframe\">\n",
       "  <thead>\n",
       "    <tr style=\"text-align: right;\">\n",
       "      <th></th>\n",
       "      <th>Open</th>\n",
       "      <th>High</th>\n",
       "      <th>Low</th>\n",
       "    </tr>\n",
       "  </thead>\n",
       "  <tbody>\n",
       "    <tr>\n",
       "      <th>0</th>\n",
       "      <td>13.00</td>\n",
       "      <td>14.00</td>\n",
       "      <td>11.25</td>\n",
       "    </tr>\n",
       "    <tr>\n",
       "      <th>1</th>\n",
       "      <td>12.58</td>\n",
       "      <td>14.88</td>\n",
       "      <td>12.55</td>\n",
       "    </tr>\n",
       "    <tr>\n",
       "      <th>2</th>\n",
       "      <td>13.48</td>\n",
       "      <td>14.87</td>\n",
       "      <td>12.27</td>\n",
       "    </tr>\n",
       "    <tr>\n",
       "      <th>3</th>\n",
       "      <td>13.20</td>\n",
       "      <td>14.47</td>\n",
       "      <td>12.40</td>\n",
       "    </tr>\n",
       "    <tr>\n",
       "      <th>4</th>\n",
       "      <td>13.35</td>\n",
       "      <td>13.88</td>\n",
       "      <td>12.88</td>\n",
       "    </tr>\n",
       "    <tr>\n",
       "      <th>...</th>\n",
       "      <td>...</td>\n",
       "      <td>...</td>\n",
       "      <td>...</td>\n",
       "    </tr>\n",
       "    <tr>\n",
       "      <th>180</th>\n",
       "      <td>25.60</td>\n",
       "      <td>28.30</td>\n",
       "      <td>11.10</td>\n",
       "    </tr>\n",
       "    <tr>\n",
       "      <th>181</th>\n",
       "      <td>12.00</td>\n",
       "      <td>17.16</td>\n",
       "      <td>11.85</td>\n",
       "    </tr>\n",
       "    <tr>\n",
       "      <th>182</th>\n",
       "      <td>14.30</td>\n",
       "      <td>15.34</td>\n",
       "      <td>12.75</td>\n",
       "    </tr>\n",
       "    <tr>\n",
       "      <th>183</th>\n",
       "      <td>13.30</td>\n",
       "      <td>14.01</td>\n",
       "      <td>12.11</td>\n",
       "    </tr>\n",
       "    <tr>\n",
       "      <th>184</th>\n",
       "      <td>12.41</td>\n",
       "      <td>14.90</td>\n",
       "      <td>12.21</td>\n",
       "    </tr>\n",
       "  </tbody>\n",
       "</table>\n",
       "<p>185 rows × 3 columns</p>\n",
       "</div>"
      ],
      "text/plain": [
       "      Open   High    Low\n",
       "0    13.00  14.00  11.25\n",
       "1    12.58  14.88  12.55\n",
       "2    13.48  14.87  12.27\n",
       "3    13.20  14.47  12.40\n",
       "4    13.35  13.88  12.88\n",
       "..     ...    ...    ...\n",
       "180  25.60  28.30  11.10\n",
       "181  12.00  17.16  11.85\n",
       "182  14.30  15.34  12.75\n",
       "183  13.30  14.01  12.11\n",
       "184  12.41  14.90  12.21\n",
       "\n",
       "[185 rows x 3 columns]"
      ]
     },
     "execution_count": 32,
     "metadata": {},
     "output_type": "execute_result"
    }
   ],
   "source": [
    "x\n"
   ]
  },
  {
   "cell_type": "code",
   "execution_count": 33,
   "id": "94a18eed",
   "metadata": {
    "execution": {
     "iopub.execute_input": "2023-02-04T06:38:27.818288Z",
     "iopub.status.busy": "2023-02-04T06:38:27.817857Z",
     "iopub.status.idle": "2023-02-04T06:38:27.823562Z",
     "shell.execute_reply": "2023-02-04T06:38:27.822225Z"
    },
    "papermill": {
     "duration": 0.032735,
     "end_time": "2023-02-04T06:38:27.826136",
     "exception": false,
     "start_time": "2023-02-04T06:38:27.793401",
     "status": "completed"
    },
    "tags": []
   },
   "outputs": [],
   "source": [
    "y = data_yes[\"Close\"]\n"
   ]
  },
  {
   "cell_type": "code",
   "execution_count": null,
   "id": "5a01f286",
   "metadata": {
    "papermill": {
     "duration": 0.022877,
     "end_time": "2023-02-04T06:38:27.872244",
     "exception": false,
     "start_time": "2023-02-04T06:38:27.849367",
     "status": "completed"
    },
    "tags": []
   },
   "outputs": [],
   "source": []
  },
  {
   "cell_type": "code",
   "execution_count": 34,
   "id": "00648b36",
   "metadata": {
    "execution": {
     "iopub.execute_input": "2023-02-04T06:38:27.920751Z",
     "iopub.status.busy": "2023-02-04T06:38:27.919776Z",
     "iopub.status.idle": "2023-02-04T06:38:27.932186Z",
     "shell.execute_reply": "2023-02-04T06:38:27.930812Z"
    },
    "papermill": {
     "duration": 0.03936,
     "end_time": "2023-02-04T06:38:27.934678",
     "exception": false,
     "start_time": "2023-02-04T06:38:27.895318",
     "status": "completed"
    },
    "tags": []
   },
   "outputs": [],
   "source": [
    "from scipy.stats import zscore\n",
    "x = x.apply(zscore)"
   ]
  },
  {
   "cell_type": "code",
   "execution_count": 35,
   "id": "a8958167",
   "metadata": {
    "execution": {
     "iopub.execute_input": "2023-02-04T06:38:27.982707Z",
     "iopub.status.busy": "2023-02-04T06:38:27.982302Z",
     "iopub.status.idle": "2023-02-04T06:38:27.987429Z",
     "shell.execute_reply": "2023-02-04T06:38:27.986506Z"
    },
    "papermill": {
     "duration": 0.032193,
     "end_time": "2023-02-04T06:38:27.989851",
     "exception": false,
     "start_time": "2023-02-04T06:38:27.957658",
     "status": "completed"
    },
    "tags": []
   },
   "outputs": [],
   "source": [
    "y = np.log10(y)"
   ]
  },
  {
   "cell_type": "code",
   "execution_count": 36,
   "id": "5a6cb8ea",
   "metadata": {
    "execution": {
     "iopub.execute_input": "2023-02-04T06:38:28.037368Z",
     "iopub.status.busy": "2023-02-04T06:38:28.036953Z",
     "iopub.status.idle": "2023-02-04T06:38:28.045862Z",
     "shell.execute_reply": "2023-02-04T06:38:28.044816Z"
    },
    "papermill": {
     "duration": 0.035805,
     "end_time": "2023-02-04T06:38:28.048323",
     "exception": false,
     "start_time": "2023-02-04T06:38:28.012518",
     "status": "completed"
    },
    "tags": []
   },
   "outputs": [
    {
     "data": {
      "text/plain": [
       "0      1.095518\n",
       "1      1.127753\n",
       "2      1.123852\n",
       "3      1.113609\n",
       "4      1.127429\n",
       "         ...   \n",
       "180    1.077368\n",
       "181    1.157457\n",
       "182    1.118926\n",
       "183    1.094122\n",
       "184    1.166430\n",
       "Name: Close, Length: 185, dtype: float64"
      ]
     },
     "execution_count": 36,
     "metadata": {},
     "output_type": "execute_result"
    }
   ],
   "source": [
    "y"
   ]
  },
  {
   "cell_type": "code",
   "execution_count": 37,
   "id": "59e183b1",
   "metadata": {
    "execution": {
     "iopub.execute_input": "2023-02-04T06:38:28.096885Z",
     "iopub.status.busy": "2023-02-04T06:38:28.096460Z",
     "iopub.status.idle": "2023-02-04T06:38:28.104023Z",
     "shell.execute_reply": "2023-02-04T06:38:28.103143Z"
    },
    "papermill": {
     "duration": 0.034676,
     "end_time": "2023-02-04T06:38:28.106259",
     "exception": false,
     "start_time": "2023-02-04T06:38:28.071583",
     "status": "completed"
    },
    "tags": []
   },
   "outputs": [],
   "source": [
    "x_train,x_test,y_train,y_test=train_test_split(x,y,test_size=1/4,random_state=4)"
   ]
  },
  {
   "cell_type": "code",
   "execution_count": 38,
   "id": "99ad893f",
   "metadata": {
    "execution": {
     "iopub.execute_input": "2023-02-04T06:38:28.155630Z",
     "iopub.status.busy": "2023-02-04T06:38:28.154207Z",
     "iopub.status.idle": "2023-02-04T06:38:28.160315Z",
     "shell.execute_reply": "2023-02-04T06:38:28.159290Z"
    },
    "papermill": {
     "duration": 0.033678,
     "end_time": "2023-02-04T06:38:28.162988",
     "exception": false,
     "start_time": "2023-02-04T06:38:28.129310",
     "status": "completed"
    },
    "tags": []
   },
   "outputs": [],
   "source": [
    "from  sklearn.preprocessing import MinMaxScaler"
   ]
  },
  {
   "cell_type": "code",
   "execution_count": 39,
   "id": "2efbcdc1",
   "metadata": {
    "execution": {
     "iopub.execute_input": "2023-02-04T06:38:28.213199Z",
     "iopub.status.busy": "2023-02-04T06:38:28.211940Z",
     "iopub.status.idle": "2023-02-04T06:38:28.221810Z",
     "shell.execute_reply": "2023-02-04T06:38:28.220942Z"
    },
    "papermill": {
     "duration": 0.036748,
     "end_time": "2023-02-04T06:38:28.224292",
     "exception": false,
     "start_time": "2023-02-04T06:38:28.187544",
     "status": "completed"
    },
    "tags": []
   },
   "outputs": [],
   "source": [
    "scaler = MinMaxScaler()\n",
    "x_train = scaler.fit_transform(x_train)\n",
    "x_test = scaler.transform(x_test)"
   ]
  },
  {
   "cell_type": "code",
   "execution_count": 40,
   "id": "7fd87ebd",
   "metadata": {
    "execution": {
     "iopub.execute_input": "2023-02-04T06:38:28.273860Z",
     "iopub.status.busy": "2023-02-04T06:38:28.272883Z",
     "iopub.status.idle": "2023-02-04T06:38:28.361869Z",
     "shell.execute_reply": "2023-02-04T06:38:28.360567Z"
    },
    "papermill": {
     "duration": 0.116663,
     "end_time": "2023-02-04T06:38:28.364578",
     "exception": false,
     "start_time": "2023-02-04T06:38:28.247915",
     "status": "completed"
    },
    "tags": []
   },
   "outputs": [
    {
     "data": {
      "text/plain": [
       "LinearRegression()"
      ]
     },
     "execution_count": 40,
     "metadata": {},
     "output_type": "execute_result"
    }
   ],
   "source": [
    "#Fitting the Linear Regression to the dataset  \n",
    "from sklearn.linear_model import LinearRegression  \n",
    "lin_regs= LinearRegression()  \n",
    "lin_regs.fit(x_train,y_train)\n",
    "\n"
   ]
  },
  {
   "cell_type": "code",
   "execution_count": 41,
   "id": "e64cc257",
   "metadata": {
    "execution": {
     "iopub.execute_input": "2023-02-04T06:38:28.413730Z",
     "iopub.status.busy": "2023-02-04T06:38:28.412621Z",
     "iopub.status.idle": "2023-02-04T06:38:28.422878Z",
     "shell.execute_reply": "2023-02-04T06:38:28.421800Z"
    },
    "papermill": {
     "duration": 0.037352,
     "end_time": "2023-02-04T06:38:28.425445",
     "exception": false,
     "start_time": "2023-02-04T06:38:28.388093",
     "status": "completed"
    },
    "tags": []
   },
   "outputs": [
    {
     "data": {
      "text/plain": [
       "0.817"
      ]
     },
     "execution_count": 41,
     "metadata": {},
     "output_type": "execute_result"
    }
   ],
   "source": [
    "round(lin_regs.score(x_train,y_train),3)"
   ]
  },
  {
   "cell_type": "code",
   "execution_count": 42,
   "id": "cd1a4f1f",
   "metadata": {
    "execution": {
     "iopub.execute_input": "2023-02-04T06:38:28.474083Z",
     "iopub.status.busy": "2023-02-04T06:38:28.473224Z",
     "iopub.status.idle": "2023-02-04T06:38:28.481939Z",
     "shell.execute_reply": "2023-02-04T06:38:28.480807Z"
    },
    "papermill": {
     "duration": 0.035815,
     "end_time": "2023-02-04T06:38:28.484327",
     "exception": false,
     "start_time": "2023-02-04T06:38:28.448512",
     "status": "completed"
    },
    "tags": []
   },
   "outputs": [
    {
     "data": {
      "text/plain": [
       "0.814"
      ]
     },
     "execution_count": 42,
     "metadata": {},
     "output_type": "execute_result"
    }
   ],
   "source": [
    "round(lin_regs.score(x_test,y_test),3)"
   ]
  },
  {
   "cell_type": "code",
   "execution_count": 43,
   "id": "dd1d1079",
   "metadata": {
    "execution": {
     "iopub.execute_input": "2023-02-04T06:38:28.533025Z",
     "iopub.status.busy": "2023-02-04T06:38:28.532231Z",
     "iopub.status.idle": "2023-02-04T06:38:28.537556Z",
     "shell.execute_reply": "2023-02-04T06:38:28.536768Z"
    },
    "papermill": {
     "duration": 0.032527,
     "end_time": "2023-02-04T06:38:28.539886",
     "exception": false,
     "start_time": "2023-02-04T06:38:28.507359",
     "status": "completed"
    },
    "tags": []
   },
   "outputs": [],
   "source": [
    "y_pred=lin_regs.predict(x_test)\n"
   ]
  },
  {
   "cell_type": "code",
   "execution_count": 44,
   "id": "7c613a7b",
   "metadata": {
    "execution": {
     "iopub.execute_input": "2023-02-04T06:38:28.588490Z",
     "iopub.status.busy": "2023-02-04T06:38:28.587800Z",
     "iopub.status.idle": "2023-02-04T06:38:28.593040Z",
     "shell.execute_reply": "2023-02-04T06:38:28.592016Z"
    },
    "papermill": {
     "duration": 0.032611,
     "end_time": "2023-02-04T06:38:28.595574",
     "exception": false,
     "start_time": "2023-02-04T06:38:28.562963",
     "status": "completed"
    },
    "tags": []
   },
   "outputs": [],
   "source": [
    "from sklearn.metrics import mean_absolute_error\n",
    "from sklearn.metrics import mean_squared_error"
   ]
  },
  {
   "cell_type": "code",
   "execution_count": 45,
   "id": "7f1ebdbb",
   "metadata": {
    "execution": {
     "iopub.execute_input": "2023-02-04T06:38:28.644865Z",
     "iopub.status.busy": "2023-02-04T06:38:28.644129Z",
     "iopub.status.idle": "2023-02-04T06:38:28.651155Z",
     "shell.execute_reply": "2023-02-04T06:38:28.649800Z"
    },
    "papermill": {
     "duration": 0.03495,
     "end_time": "2023-02-04T06:38:28.653880",
     "exception": false,
     "start_time": "2023-02-04T06:38:28.618930",
     "status": "completed"
    },
    "tags": []
   },
   "outputs": [
    {
     "name": "stdout",
     "output_type": "stream",
     "text": [
      "MSE 0.031\n"
     ]
    }
   ],
   "source": [
    "print(\"MSE\",round(mean_squared_error(y_test,y_pred),3))"
   ]
  },
  {
   "cell_type": "code",
   "execution_count": 46,
   "id": "5631cbb4",
   "metadata": {
    "execution": {
     "iopub.execute_input": "2023-02-04T06:38:28.703146Z",
     "iopub.status.busy": "2023-02-04T06:38:28.702168Z",
     "iopub.status.idle": "2023-02-04T06:38:28.710823Z",
     "shell.execute_reply": "2023-02-04T06:38:28.709398Z"
    },
    "papermill": {
     "duration": 0.036723,
     "end_time": "2023-02-04T06:38:28.713865",
     "exception": false,
     "start_time": "2023-02-04T06:38:28.677142",
     "status": "completed"
    },
    "tags": []
   },
   "outputs": [
    {
     "name": "stdout",
     "output_type": "stream",
     "text": [
      "MAE 0.15\n"
     ]
    }
   ],
   "source": [
    "print(\"MAE\",round(mean_absolute_error(y_test,y_pred),3))"
   ]
  },
  {
   "cell_type": "code",
   "execution_count": 47,
   "id": "d6776b88",
   "metadata": {
    "execution": {
     "iopub.execute_input": "2023-02-04T06:38:28.765283Z",
     "iopub.status.busy": "2023-02-04T06:38:28.764427Z",
     "iopub.status.idle": "2023-02-04T06:38:28.771982Z",
     "shell.execute_reply": "2023-02-04T06:38:28.770594Z"
    },
    "papermill": {
     "duration": 0.035683,
     "end_time": "2023-02-04T06:38:28.774704",
     "exception": false,
     "start_time": "2023-02-04T06:38:28.739021",
     "status": "completed"
    },
    "tags": []
   },
   "outputs": [
    {
     "name": "stdout",
     "output_type": "stream",
     "text": [
      "score 0.814\n"
     ]
    }
   ],
   "source": [
    "from sklearn.metrics import r2_score\n",
    "\n",
    "print(\"score\",round(r2_score(y_test,y_pred),3))"
   ]
  },
  {
   "cell_type": "code",
   "execution_count": 48,
   "id": "a7e89230",
   "metadata": {
    "execution": {
     "iopub.execute_input": "2023-02-04T06:38:28.825068Z",
     "iopub.status.busy": "2023-02-04T06:38:28.824607Z",
     "iopub.status.idle": "2023-02-04T06:38:28.829602Z",
     "shell.execute_reply": "2023-02-04T06:38:28.828379Z"
    },
    "papermill": {
     "duration": 0.033433,
     "end_time": "2023-02-04T06:38:28.832107",
     "exception": false,
     "start_time": "2023-02-04T06:38:28.798674",
     "status": "completed"
    },
    "tags": []
   },
   "outputs": [],
   "source": [
    "tempytest = 10**np.array(y_test)\n",
    "tempy_pred = 10**y_pred"
   ]
  },
  {
   "cell_type": "code",
   "execution_count": 49,
   "id": "aca09fa2",
   "metadata": {
    "execution": {
     "iopub.execute_input": "2023-02-04T06:38:28.882318Z",
     "iopub.status.busy": "2023-02-04T06:38:28.881901Z",
     "iopub.status.idle": "2023-02-04T06:38:29.089265Z",
     "shell.execute_reply": "2023-02-04T06:38:29.087922Z"
    },
    "papermill": {
     "duration": 0.236329,
     "end_time": "2023-02-04T06:38:29.092128",
     "exception": false,
     "start_time": "2023-02-04T06:38:28.855799",
     "status": "completed"
    },
    "tags": []
   },
   "outputs": [
    {
     "data": {
      "image/png": "[encoded data removed]",
      "text/plain": [
       "<Figure size 432x288 with 1 Axes>"
      ]
     },
     "metadata": {
      "needs_background": "light"
     },
     "output_type": "display_data"
    }
   ],
   "source": [
    "plt.plot(tempytest)\n",
    "plt.plot(tempy_pred)\n",
    "plt.show()"
   ]
  },
  {
   "cell_type": "code",
   "execution_count": 50,
   "id": "d99a6444",
   "metadata": {
    "execution": {
     "iopub.execute_input": "2023-02-04T06:38:29.141852Z",
     "iopub.status.busy": "2023-02-04T06:38:29.141384Z",
     "iopub.status.idle": "2023-02-04T06:38:29.345581Z",
     "shell.execute_reply": "2023-02-04T06:38:29.344335Z"
    },
    "papermill": {
     "duration": 0.2323,
     "end_time": "2023-02-04T06:38:29.348385",
     "exception": false,
     "start_time": "2023-02-04T06:38:29.116085",
     "status": "completed"
    },
    "tags": []
   },
   "outputs": [
    {
     "data": {
      "image/png": "[encoded data removed]",
      "text/plain": [
       "<Figure size 432x288 with 1 Axes>"
      ]
     },
     "metadata": {
      "needs_background": "light"
     },
     "output_type": "display_data"
    }
   ],
   "source": [
    "plt.plot(y_pred)\n",
    "plt.show()\n"
   ]
  },
  {
   "cell_type": "code",
   "execution_count": 51,
   "id": "bc3a49bd",
   "metadata": {
    "execution": {
     "iopub.execute_input": "2023-02-04T06:38:29.399596Z",
     "iopub.status.busy": "2023-02-04T06:38:29.399147Z",
     "iopub.status.idle": "2023-02-04T06:38:29.410046Z",
     "shell.execute_reply": "2023-02-04T06:38:29.408941Z"
    },
    "papermill": {
     "duration": 0.039604,
     "end_time": "2023-02-04T06:38:29.412707",
     "exception": false,
     "start_time": "2023-02-04T06:38:29.373103",
     "status": "completed"
    },
    "tags": []
   },
   "outputs": [],
   "source": [
    "from sklearn.linear_model import Lasso\n",
    "lr = Lasso(alpha=0,max_iter=3000)\n",
    "lrm  = lr.fit(x_train,y_train)"
   ]
  },
  {
   "cell_type": "code",
   "execution_count": 52,
   "id": "a3da4301",
   "metadata": {
    "execution": {
     "iopub.execute_input": "2023-02-04T06:38:29.464395Z",
     "iopub.status.busy": "2023-02-04T06:38:29.463965Z",
     "iopub.status.idle": "2023-02-04T06:38:29.473006Z",
     "shell.execute_reply": "2023-02-04T06:38:29.471760Z"
    },
    "papermill": {
     "duration": 0.038011,
     "end_time": "2023-02-04T06:38:29.475486",
     "exception": false,
     "start_time": "2023-02-04T06:38:29.437475",
     "status": "completed"
    },
    "tags": []
   },
   "outputs": [
    {
     "data": {
      "text/plain": [
       "0.817"
      ]
     },
     "execution_count": 52,
     "metadata": {},
     "output_type": "execute_result"
    }
   ],
   "source": [
    "round(lrm.score(x_train,y_train),3)"
   ]
  },
  {
   "cell_type": "code",
   "execution_count": 53,
   "id": "c8390d10",
   "metadata": {
    "execution": {
     "iopub.execute_input": "2023-02-04T06:38:29.526595Z",
     "iopub.status.busy": "2023-02-04T06:38:29.526188Z",
     "iopub.status.idle": "2023-02-04T06:38:29.531387Z",
     "shell.execute_reply": "2023-02-04T06:38:29.530360Z"
    },
    "papermill": {
     "duration": 0.033667,
     "end_time": "2023-02-04T06:38:29.533623",
     "exception": false,
     "start_time": "2023-02-04T06:38:29.499956",
     "status": "completed"
    },
    "tags": []
   },
   "outputs": [],
   "source": [
    "y_pred_1=lrm.predict(x_test)"
   ]
  },
  {
   "cell_type": "code",
   "execution_count": 54,
   "id": "1646a365",
   "metadata": {
    "execution": {
     "iopub.execute_input": "2023-02-04T06:38:29.586074Z",
     "iopub.status.busy": "2023-02-04T06:38:29.585618Z",
     "iopub.status.idle": "2023-02-04T06:38:29.592418Z",
     "shell.execute_reply": "2023-02-04T06:38:29.591066Z"
    },
    "papermill": {
     "duration": 0.036651,
     "end_time": "2023-02-04T06:38:29.594729",
     "exception": false,
     "start_time": "2023-02-04T06:38:29.558078",
     "status": "completed"
    },
    "tags": []
   },
   "outputs": [
    {
     "name": "stdout",
     "output_type": "stream",
     "text": [
      "MSE 0.031\n"
     ]
    }
   ],
   "source": [
    "print(\"MSE\",round(mean_squared_error(y_test,y_pred_1),3))"
   ]
  },
  {
   "cell_type": "code",
   "execution_count": 55,
   "id": "03b93a89",
   "metadata": {
    "execution": {
     "iopub.execute_input": "2023-02-04T06:38:29.646154Z",
     "iopub.status.busy": "2023-02-04T06:38:29.645704Z",
     "iopub.status.idle": "2023-02-04T06:38:29.653039Z",
     "shell.execute_reply": "2023-02-04T06:38:29.651550Z"
    },
    "papermill": {
     "duration": 0.035799,
     "end_time": "2023-02-04T06:38:29.655398",
     "exception": false,
     "start_time": "2023-02-04T06:38:29.619599",
     "status": "completed"
    },
    "tags": []
   },
   "outputs": [
    {
     "name": "stdout",
     "output_type": "stream",
     "text": [
      "MAE 0.15\n"
     ]
    }
   ],
   "source": [
    "print(\"MAE\",round(mean_absolute_error(y_test,y_pred_1),3))"
   ]
  },
  {
   "cell_type": "code",
   "execution_count": 56,
   "id": "c3b25181",
   "metadata": {
    "execution": {
     "iopub.execute_input": "2023-02-04T06:38:29.707533Z",
     "iopub.status.busy": "2023-02-04T06:38:29.706277Z",
     "iopub.status.idle": "2023-02-04T06:38:29.713420Z",
     "shell.execute_reply": "2023-02-04T06:38:29.712126Z"
    },
    "papermill": {
     "duration": 0.035967,
     "end_time": "2023-02-04T06:38:29.716039",
     "exception": false,
     "start_time": "2023-02-04T06:38:29.680072",
     "status": "completed"
    },
    "tags": []
   },
   "outputs": [
    {
     "name": "stdout",
     "output_type": "stream",
     "text": [
      "score 0.814\n"
     ]
    }
   ],
   "source": [
    "print(\"score\",round(r2_score(y_test,y_pred_1),3))"
   ]
  },
  {
   "cell_type": "code",
   "execution_count": 57,
   "id": "b9b03ea3",
   "metadata": {
    "execution": {
     "iopub.execute_input": "2023-02-04T06:38:29.769553Z",
     "iopub.status.busy": "2023-02-04T06:38:29.769075Z",
     "iopub.status.idle": "2023-02-04T06:38:29.775639Z",
     "shell.execute_reply": "2023-02-04T06:38:29.774160Z"
    },
    "papermill": {
     "duration": 0.036591,
     "end_time": "2023-02-04T06:38:29.778421",
     "exception": false,
     "start_time": "2023-02-04T06:38:29.741830",
     "status": "completed"
    },
    "tags": []
   },
   "outputs": [],
   "source": [
    "tempy_test = 10**np.array(y_test)\n",
    "tempy_pred_1 = 10**y_pred_1"
   ]
  },
  {
   "cell_type": "code",
   "execution_count": 58,
   "id": "5f063af1",
   "metadata": {
    "execution": {
     "iopub.execute_input": "2023-02-04T06:38:29.831783Z",
     "iopub.status.busy": "2023-02-04T06:38:29.831329Z",
     "iopub.status.idle": "2023-02-04T06:38:30.036998Z",
     "shell.execute_reply": "2023-02-04T06:38:30.035638Z"
    },
    "papermill": {
     "duration": 0.235638,
     "end_time": "2023-02-04T06:38:30.040308",
     "exception": false,
     "start_time": "2023-02-04T06:38:29.804670",
     "status": "completed"
    },
    "tags": []
   },
   "outputs": [
    {
     "data": {
      "image/png": "[encoded data removed]",
      "text/plain": [
       "<Figure size 432x288 with 1 Axes>"
      ]
     },
     "metadata": {
      "needs_background": "light"
     },
     "output_type": "display_data"
    }
   ],
   "source": [
    "plt.plot(tempy_test)\n",
    "plt.plot(tempy_pred_1)\n",
    "plt.show()"
   ]
  },
  {
   "cell_type": "code",
   "execution_count": 59,
   "id": "3193187d",
   "metadata": {
    "execution": {
     "iopub.execute_input": "2023-02-04T06:38:30.093104Z",
     "iopub.status.busy": "2023-02-04T06:38:30.092633Z",
     "iopub.status.idle": "2023-02-04T06:38:30.098445Z",
     "shell.execute_reply": "2023-02-04T06:38:30.097081Z"
    },
    "papermill": {
     "duration": 0.03565,
     "end_time": "2023-02-04T06:38:30.101162",
     "exception": false,
     "start_time": "2023-02-04T06:38:30.065512",
     "status": "completed"
    },
    "tags": []
   },
   "outputs": [],
   "source": [
    "from sklearn.model_selection import GridSearchCV\n"
   ]
  },
  {
   "cell_type": "code",
   "execution_count": 60,
   "id": "011a7928",
   "metadata": {
    "execution": {
     "iopub.execute_input": "2023-02-04T06:38:30.153632Z",
     "iopub.status.busy": "2023-02-04T06:38:30.153214Z",
     "iopub.status.idle": "2023-02-04T06:38:30.159110Z",
     "shell.execute_reply": "2023-02-04T06:38:30.158075Z"
    },
    "papermill": {
     "duration": 0.035192,
     "end_time": "2023-02-04T06:38:30.161525",
     "exception": false,
     "start_time": "2023-02-04T06:38:30.126333",
     "status": "completed"
    },
    "tags": []
   },
   "outputs": [],
   "source": [
    "parameters={\"alpha\":[0.1,0.001,0.2,1,2,3,4,5,6,10,20,30,40,50,60,70,90,100]}"
   ]
  },
  {
   "cell_type": "code",
   "execution_count": 61,
   "id": "a04edd28",
   "metadata": {
    "execution": {
     "iopub.execute_input": "2023-02-04T06:38:30.214294Z",
     "iopub.status.busy": "2023-02-04T06:38:30.213877Z",
     "iopub.status.idle": "2023-02-04T06:38:30.219608Z",
     "shell.execute_reply": "2023-02-04T06:38:30.218126Z"
    },
    "papermill": {
     "duration": 0.035436,
     "end_time": "2023-02-04T06:38:30.222507",
     "exception": false,
     "start_time": "2023-02-04T06:38:30.187071",
     "status": "completed"
    },
    "tags": []
   },
   "outputs": [],
   "source": [
    "lassocv = Lasso()\n",
    "lassomodelcv = GridSearchCV(lassocv,parameters,scoring=\"neg_mean_squared_error\")"
   ]
  },
  {
   "cell_type": "code",
   "execution_count": 62,
   "id": "fba11b1d",
   "metadata": {
    "execution": {
     "iopub.execute_input": "2023-02-04T06:38:30.275302Z",
     "iopub.status.busy": "2023-02-04T06:38:30.274851Z",
     "iopub.status.idle": "2023-02-04T06:38:30.455079Z",
     "shell.execute_reply": "2023-02-04T06:38:30.453913Z"
    },
    "papermill": {
     "duration": 0.209667,
     "end_time": "2023-02-04T06:38:30.457827",
     "exception": false,
     "start_time": "2023-02-04T06:38:30.248160",
     "status": "completed"
    },
    "tags": []
   },
   "outputs": [],
   "source": [
    "GSCV=lassomodelcv.fit(x_train,y_train)\n"
   ]
  },
  {
   "cell_type": "code",
   "execution_count": 63,
   "id": "56cb9d67",
   "metadata": {
    "execution": {
     "iopub.execute_input": "2023-02-04T06:38:30.511285Z",
     "iopub.status.busy": "2023-02-04T06:38:30.510813Z",
     "iopub.status.idle": "2023-02-04T06:38:30.518495Z",
     "shell.execute_reply": "2023-02-04T06:38:30.516771Z"
    },
    "papermill": {
     "duration": 0.037256,
     "end_time": "2023-02-04T06:38:30.520930",
     "exception": false,
     "start_time": "2023-02-04T06:38:30.483674",
     "status": "completed"
    },
    "tags": []
   },
   "outputs": [
    {
     "name": "stdout",
     "output_type": "stream",
     "text": [
      "GridSearchCV(estimator=Lasso(),\n",
      "             param_grid={'alpha': [0.1, 0.001, 0.2, 1, 2, 3, 4, 5, 6, 10, 20,\n",
      "                                   30, 40, 50, 60, 70, 90, 100]},\n",
      "             scoring='neg_mean_squared_error')\n",
      "0.001\n"
     ]
    }
   ],
   "source": [
    "print(GSCV)\n",
    "print(round(GSCV.best_params_['alpha'],3))"
   ]
  },
  {
   "cell_type": "code",
   "execution_count": 64,
   "id": "af30f908",
   "metadata": {
    "execution": {
     "iopub.execute_input": "2023-02-04T06:38:30.573411Z",
     "iopub.status.busy": "2023-02-04T06:38:30.572928Z",
     "iopub.status.idle": "2023-02-04T06:38:30.579284Z",
     "shell.execute_reply": "2023-02-04T06:38:30.577910Z"
    },
    "papermill": {
     "duration": 0.035481,
     "end_time": "2023-02-04T06:38:30.581827",
     "exception": false,
     "start_time": "2023-02-04T06:38:30.546346",
     "status": "completed"
    },
    "tags": []
   },
   "outputs": [],
   "source": [
    "y_predict_2=GSCV.predict(x_test)"
   ]
  },
  {
   "cell_type": "code",
   "execution_count": 65,
   "id": "a78f96e3",
   "metadata": {
    "execution": {
     "iopub.execute_input": "2023-02-04T06:38:30.634483Z",
     "iopub.status.busy": "2023-02-04T06:38:30.633783Z",
     "iopub.status.idle": "2023-02-04T06:38:30.642321Z",
     "shell.execute_reply": "2023-02-04T06:38:30.641060Z"
    },
    "papermill": {
     "duration": 0.037149,
     "end_time": "2023-02-04T06:38:30.644604",
     "exception": false,
     "start_time": "2023-02-04T06:38:30.607455",
     "status": "completed"
    },
    "tags": []
   },
   "outputs": [
    {
     "name": "stdout",
     "output_type": "stream",
     "text": [
      "MSE 0.03\n",
      "MAE 0.148\n",
      "score 0.822\n"
     ]
    }
   ],
   "source": [
    "print(\"MSE\",round(mean_squared_error(y_test,y_predict_2),3))\n",
    "print(\"MAE\",round(mean_absolute_error(y_test,y_predict_2),3))\n",
    "print(\"score\",round(r2_score(y_test,y_predict_2),3))"
   ]
  },
  {
   "cell_type": "code",
   "execution_count": 66,
   "id": "1993364e",
   "metadata": {
    "execution": {
     "iopub.execute_input": "2023-02-04T06:38:30.696751Z",
     "iopub.status.busy": "2023-02-04T06:38:30.696288Z",
     "iopub.status.idle": "2023-02-04T06:38:30.701503Z",
     "shell.execute_reply": "2023-02-04T06:38:30.700606Z"
    },
    "papermill": {
     "duration": 0.033977,
     "end_time": "2023-02-04T06:38:30.703796",
     "exception": false,
     "start_time": "2023-02-04T06:38:30.669819",
     "status": "completed"
    },
    "tags": []
   },
   "outputs": [],
   "source": [
    "tempy_test_1 = 10**np.array(y_test)\n",
    "tempy_pred_2 = 10**y_predict_2"
   ]
  },
  {
   "cell_type": "code",
   "execution_count": 67,
   "id": "4431f830",
   "metadata": {
    "execution": {
     "iopub.execute_input": "2023-02-04T06:38:30.757308Z",
     "iopub.status.busy": "2023-02-04T06:38:30.756832Z",
     "iopub.status.idle": "2023-02-04T06:38:30.968628Z",
     "shell.execute_reply": "2023-02-04T06:38:30.966397Z"
    },
    "papermill": {
     "duration": 0.242375,
     "end_time": "2023-02-04T06:38:30.971245",
     "exception": false,
     "start_time": "2023-02-04T06:38:30.728870",
     "status": "completed"
    },
    "tags": []
   },
   "outputs": [
    {
     "data": {
      "image/png": "[encoded data removed]",
      "text/plain": [
       "<Figure size 432x288 with 1 Axes>"
      ]
     },
     "metadata": {
      "needs_background": "light"
     },
     "output_type": "display_data"
    }
   ],
   "source": [
    "plt.plot(tempy_test_1)\n",
    "plt.plot(tempy_pred_2)\n",
    "plt.show()"
   ]
  },
  {
   "cell_type": "code",
   "execution_count": 68,
   "id": "393167ee",
   "metadata": {
    "execution": {
     "iopub.execute_input": "2023-02-04T06:38:31.024754Z",
     "iopub.status.busy": "2023-02-04T06:38:31.024296Z",
     "iopub.status.idle": "2023-02-04T06:38:31.029614Z",
     "shell.execute_reply": "2023-02-04T06:38:31.028648Z"
    },
    "papermill": {
     "duration": 0.034469,
     "end_time": "2023-02-04T06:38:31.031907",
     "exception": false,
     "start_time": "2023-02-04T06:38:30.997438",
     "status": "completed"
    },
    "tags": []
   },
   "outputs": [],
   "source": [
    " from sklearn.linear_model import Ridge"
   ]
  },
  {
   "cell_type": "code",
   "execution_count": 69,
   "id": "010572a2",
   "metadata": {
    "execution": {
     "iopub.execute_input": "2023-02-04T06:38:31.086423Z",
     "iopub.status.busy": "2023-02-04T06:38:31.086015Z",
     "iopub.status.idle": "2023-02-04T06:38:31.096822Z",
     "shell.execute_reply": "2023-02-04T06:38:31.095937Z"
    },
    "papermill": {
     "duration": 0.040811,
     "end_time": "2023-02-04T06:38:31.099008",
     "exception": false,
     "start_time": "2023-02-04T06:38:31.058197",
     "status": "completed"
    },
    "tags": []
   },
   "outputs": [],
   "source": [
    "from sklearn.linear_model import Ridge\n",
    "rr = Ridge(alpha = 0.01)\n",
    "rrm  = rr.fit(x_train,y_train)"
   ]
  },
  {
   "cell_type": "code",
   "execution_count": 70,
   "id": "ea4a34f1",
   "metadata": {
    "execution": {
     "iopub.execute_input": "2023-02-04T06:38:31.154017Z",
     "iopub.status.busy": "2023-02-04T06:38:31.152276Z",
     "iopub.status.idle": "2023-02-04T06:38:31.158981Z",
     "shell.execute_reply": "2023-02-04T06:38:31.157794Z"
    },
    "papermill": {
     "duration": 0.036429,
     "end_time": "2023-02-04T06:38:31.161590",
     "exception": false,
     "start_time": "2023-02-04T06:38:31.125161",
     "status": "completed"
    },
    "tags": []
   },
   "outputs": [],
   "source": [
    "y_pred_3=rrm.predict(x_test)"
   ]
  },
  {
   "cell_type": "code",
   "execution_count": 71,
   "id": "b969b05c",
   "metadata": {
    "execution": {
     "iopub.execute_input": "2023-02-04T06:38:31.215290Z",
     "iopub.status.busy": "2023-02-04T06:38:31.214844Z",
     "iopub.status.idle": "2023-02-04T06:38:31.223832Z",
     "shell.execute_reply": "2023-02-04T06:38:31.222892Z"
    },
    "papermill": {
     "duration": 0.03859,
     "end_time": "2023-02-04T06:38:31.226083",
     "exception": false,
     "start_time": "2023-02-04T06:38:31.187493",
     "status": "completed"
    },
    "tags": []
   },
   "outputs": [
    {
     "name": "stdout",
     "output_type": "stream",
     "text": [
      "MSE 0.031\n",
      "MAE 0.149\n",
      "score 0.816\n"
     ]
    }
   ],
   "source": [
    "print(\"MSE\",round(mean_squared_error(y_test,y_pred_3),3))\n",
    "print(\"MAE\",round(mean_absolute_error(y_test,y_pred_3),3))\n",
    "print(\"score\",round(r2_score(y_test,y_pred_3),3))"
   ]
  },
  {
   "cell_type": "code",
   "execution_count": 72,
   "id": "aa51c4bd",
   "metadata": {
    "execution": {
     "iopub.execute_input": "2023-02-04T06:38:31.280925Z",
     "iopub.status.busy": "2023-02-04T06:38:31.280477Z",
     "iopub.status.idle": "2023-02-04T06:38:31.285963Z",
     "shell.execute_reply": "2023-02-04T06:38:31.284764Z"
    },
    "papermill": {
     "duration": 0.036272,
     "end_time": "2023-02-04T06:38:31.288358",
     "exception": false,
     "start_time": "2023-02-04T06:38:31.252086",
     "status": "completed"
    },
    "tags": []
   },
   "outputs": [],
   "source": [
    "tempy_test_r1 = 10**np.array(y_test)\n",
    "tempy_pred_3= 10**y_pred_3\n"
   ]
  },
  {
   "cell_type": "code",
   "execution_count": 73,
   "id": "5c4801aa",
   "metadata": {
    "execution": {
     "iopub.execute_input": "2023-02-04T06:38:31.341434Z",
     "iopub.status.busy": "2023-02-04T06:38:31.340947Z",
     "iopub.status.idle": "2023-02-04T06:38:31.537947Z",
     "shell.execute_reply": "2023-02-04T06:38:31.536779Z"
    },
    "papermill": {
     "duration": 0.227181,
     "end_time": "2023-02-04T06:38:31.541133",
     "exception": false,
     "start_time": "2023-02-04T06:38:31.313952",
     "status": "completed"
    },
    "tags": []
   },
   "outputs": [
    {
     "data": {
      "image/png": "[encoded data removed]",
      "text/plain": [
       "<Figure size 432x288 with 1 Axes>"
      ]
     },
     "metadata": {
      "needs_background": "light"
     },
     "output_type": "display_data"
    }
   ],
   "source": [
    "plt.plot(tempy_test_r1)\n",
    "plt.plot(tempy_pred_3)\n",
    "plt.show()"
   ]
  },
  {
   "cell_type": "code",
   "execution_count": 74,
   "id": "4467ffd6",
   "metadata": {
    "execution": {
     "iopub.execute_input": "2023-02-04T06:38:31.596975Z",
     "iopub.status.busy": "2023-02-04T06:38:31.596180Z",
     "iopub.status.idle": "2023-02-04T06:38:31.602035Z",
     "shell.execute_reply": "2023-02-04T06:38:31.601127Z"
    },
    "papermill": {
     "duration": 0.036701,
     "end_time": "2023-02-04T06:38:31.604508",
     "exception": false,
     "start_time": "2023-02-04T06:38:31.567807",
     "status": "completed"
    },
    "tags": []
   },
   "outputs": [],
   "source": [
    "parameters={\"alpha\":[0.1,0.001,0.2,1,2,3,4,5,6,10,20,30,40,50,60,70,90,100]}"
   ]
  },
  {
   "cell_type": "code",
   "execution_count": 75,
   "id": "22d1b931",
   "metadata": {
    "execution": {
     "iopub.execute_input": "2023-02-04T06:38:31.660689Z",
     "iopub.status.busy": "2023-02-04T06:38:31.659666Z",
     "iopub.status.idle": "2023-02-04T06:38:31.665589Z",
     "shell.execute_reply": "2023-02-04T06:38:31.664737Z"
    },
    "papermill": {
     "duration": 0.036682,
     "end_time": "2023-02-04T06:38:31.668147",
     "exception": false,
     "start_time": "2023-02-04T06:38:31.631465",
     "status": "completed"
    },
    "tags": []
   },
   "outputs": [],
   "source": [
    "ridgecv = Ridge()\n",
    "ridgemodelcv = GridSearchCV(ridgecv,parameters,scoring=\"neg_mean_squared_error\")"
   ]
  },
  {
   "cell_type": "code",
   "execution_count": 76,
   "id": "2f0b005e",
   "metadata": {
    "execution": {
     "iopub.execute_input": "2023-02-04T06:38:31.724607Z",
     "iopub.status.busy": "2023-02-04T06:38:31.724229Z",
     "iopub.status.idle": "2023-02-04T06:38:31.892926Z",
     "shell.execute_reply": "2023-02-04T06:38:31.891758Z"
    },
    "papermill": {
     "duration": 0.199774,
     "end_time": "2023-02-04T06:38:31.895864",
     "exception": false,
     "start_time": "2023-02-04T06:38:31.696090",
     "status": "completed"
    },
    "tags": []
   },
   "outputs": [],
   "source": [
    "GSCV_1=ridgemodelcv.fit(x_train,y_train)"
   ]
  },
  {
   "cell_type": "code",
   "execution_count": 77,
   "id": "1591f2a8",
   "metadata": {
    "execution": {
     "iopub.execute_input": "2023-02-04T06:38:31.951512Z",
     "iopub.status.busy": "2023-02-04T06:38:31.951099Z",
     "iopub.status.idle": "2023-02-04T06:38:31.958481Z",
     "shell.execute_reply": "2023-02-04T06:38:31.956940Z"
    },
    "papermill": {
     "duration": 0.040007,
     "end_time": "2023-02-04T06:38:31.962552",
     "exception": false,
     "start_time": "2023-02-04T06:38:31.922545",
     "status": "completed"
    },
    "tags": []
   },
   "outputs": [
    {
     "name": "stdout",
     "output_type": "stream",
     "text": [
      "GridSearchCV(estimator=Ridge(),\n",
      "             param_grid={'alpha': [0.1, 0.001, 0.2, 1, 2, 3, 4, 5, 6, 10, 20,\n",
      "                                   30, 40, 50, 60, 70, 90, 100]},\n",
      "             scoring='neg_mean_squared_error')\n",
      "0.001\n"
     ]
    }
   ],
   "source": [
    "print(GSCV_1)\n",
    "print(round(GSCV_1.best_params_['alpha'],3))"
   ]
  },
  {
   "cell_type": "code",
   "execution_count": 78,
   "id": "87f31467",
   "metadata": {
    "execution": {
     "iopub.execute_input": "2023-02-04T06:38:32.018640Z",
     "iopub.status.busy": "2023-02-04T06:38:32.017760Z",
     "iopub.status.idle": "2023-02-04T06:38:32.023963Z",
     "shell.execute_reply": "2023-02-04T06:38:32.023005Z"
    },
    "papermill": {
     "duration": 0.036716,
     "end_time": "2023-02-04T06:38:32.026468",
     "exception": false,
     "start_time": "2023-02-04T06:38:31.989752",
     "status": "completed"
    },
    "tags": []
   },
   "outputs": [],
   "source": [
    "y_predict_3=GSCV.predict(x_test)"
   ]
  },
  {
   "cell_type": "code",
   "execution_count": 79,
   "id": "b7c1dca7",
   "metadata": {
    "execution": {
     "iopub.execute_input": "2023-02-04T06:38:32.083804Z",
     "iopub.status.busy": "2023-02-04T06:38:32.082602Z",
     "iopub.status.idle": "2023-02-04T06:38:32.091444Z",
     "shell.execute_reply": "2023-02-04T06:38:32.090201Z"
    },
    "papermill": {
     "duration": 0.042398,
     "end_time": "2023-02-04T06:38:32.095946",
     "exception": false,
     "start_time": "2023-02-04T06:38:32.053548",
     "status": "completed"
    },
    "tags": []
   },
   "outputs": [
    {
     "name": "stdout",
     "output_type": "stream",
     "text": [
      "MSE 0.03\n",
      "MAE 0.148\n",
      "score 0.822\n"
     ]
    }
   ],
   "source": [
    "print(\"MSE\",round(mean_squared_error(y_test,y_predict_3),3))\n",
    "print(\"MAE\",round(mean_absolute_error(y_test,y_predict_3),3))\n",
    "print(\"score\",round(r2_score(y_test,y_predict_3),3))"
   ]
  },
  {
   "cell_type": "code",
   "execution_count": 80,
   "id": "e936fa77",
   "metadata": {
    "execution": {
     "iopub.execute_input": "2023-02-04T06:38:32.152626Z",
     "iopub.status.busy": "2023-02-04T06:38:32.151776Z",
     "iopub.status.idle": "2023-02-04T06:38:32.157592Z",
     "shell.execute_reply": "2023-02-04T06:38:32.156620Z"
    },
    "papermill": {
     "duration": 0.036457,
     "end_time": "2023-02-04T06:38:32.160082",
     "exception": false,
     "start_time": "2023-02-04T06:38:32.123625",
     "status": "completed"
    },
    "tags": []
   },
   "outputs": [],
   "source": [
    "tempy_test_r2 = 10**np.array(y_test)\n",
    "tempy_predict_3= 10**y_predict_3"
   ]
  },
  {
   "cell_type": "code",
   "execution_count": 81,
   "id": "e9d86361",
   "metadata": {
    "execution": {
     "iopub.execute_input": "2023-02-04T06:38:32.214892Z",
     "iopub.status.busy": "2023-02-04T06:38:32.214027Z",
     "iopub.status.idle": "2023-02-04T06:38:32.413596Z",
     "shell.execute_reply": "2023-02-04T06:38:32.412424Z"
    },
    "papermill": {
     "duration": 0.230022,
     "end_time": "2023-02-04T06:38:32.416214",
     "exception": false,
     "start_time": "2023-02-04T06:38:32.186192",
     "status": "completed"
    },
    "tags": []
   },
   "outputs": [
    {
     "data": {
      "image/png": "[encoded data removed]",
      "text/plain": [
       "<Figure size 432x288 with 1 Axes>"
      ]
     },
     "metadata": {
      "needs_background": "light"
     },
     "output_type": "display_data"
    }
   ],
   "source": [
    "plt.plot(tempy_test_r2)\n",
    "plt.plot(tempy_predict_3)\n",
    "plt.show()"
   ]
  },
  {
   "cell_type": "code",
   "execution_count": null,
   "id": "5a5c76ac",
   "metadata": {
    "papermill": {
     "duration": 0.027778,
     "end_time": "2023-02-04T06:38:32.473266",
     "exception": false,
     "start_time": "2023-02-04T06:38:32.445488",
     "status": "completed"
    },
    "tags": []
   },
   "outputs": [],
   "source": []
  }
 ],
 "metadata": {
  "kernelspec": {
   "display_name": "Python 3",
   "language": "python",
   "name": "python3"
  },
  "language_info": {
   "codemirror_mode": {
    "name": "ipython",
    "version": 3
   },
   "file_extension": ".py",
   "mimetype": "text/x-python",
   "name": "python",
   "nbconvert_exporter": "python",
   "pygments_lexer": "ipython3",
   "version": "3.7.12"
  },
  "papermill": {
   "default_parameters": {},
   "duration": 19.093288,
   "end_time": "2023-02-04T06:38:33.434195",
   "environment_variables": {},
   "exception": null,
   "input_path": "__notebook__.ipynb",
   "output_path": "__notebook__.ipynb",
   "parameters": {},
   "start_time": "2023-02-04T06:38:14.340907",
   "version": "2.3.4"
  }
 },
 "nbformat": 4,
 "nbformat_minor": 5
}
